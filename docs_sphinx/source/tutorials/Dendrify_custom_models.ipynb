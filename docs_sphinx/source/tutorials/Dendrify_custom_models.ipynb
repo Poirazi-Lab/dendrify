{
 "cells": [
  {
   "cell_type": "markdown",
   "metadata": {},
   "source": [
    "# Custom models \n",
    "\n",
    "In this tutorial, we are going to cover the following topics:\n"
   ]
  }
 ],
 "metadata": {
  "language_info": {
   "name": "python"
  }
 },
 "nbformat": 4,
 "nbformat_minor": 2
}
