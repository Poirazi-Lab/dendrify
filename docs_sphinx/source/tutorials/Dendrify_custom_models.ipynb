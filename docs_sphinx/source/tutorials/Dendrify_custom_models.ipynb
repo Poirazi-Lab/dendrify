{
 "cells": [
  {
   "cell_type": "markdown",
   "metadata": {},
   "source": [
    "# Custom models"
   ]
  },
  {
   "cell_type": "code",
   "execution_count": 1,
   "metadata": {},
   "outputs": [
    {
     "ename": "ModuleNotFoundError",
     "evalue": "No module named 'dendrify'",
     "output_type": "error",
     "traceback": [
      "\u001b[0;31m---------------------------------------------------------------------------\u001b[0m",
      "\u001b[0;31mModuleNotFoundError\u001b[0m                       Traceback (most recent call last)",
      "Cell \u001b[0;32mIn[1], line 4\u001b[0m\n\u001b[1;32m      1\u001b[0m \u001b[38;5;28;01mimport\u001b[39;00m\u001b[38;5;250m \u001b[39m\u001b[38;5;21;01mbrian2\u001b[39;00m\u001b[38;5;250m \u001b[39m\u001b[38;5;28;01mas\u001b[39;00m\u001b[38;5;250m \u001b[39m\u001b[38;5;21;01mb\u001b[39;00m\n\u001b[1;32m      2\u001b[0m \u001b[38;5;28;01mfrom\u001b[39;00m\u001b[38;5;250m \u001b[39m\u001b[38;5;21;01mbrian2\u001b[39;00m\u001b[38;5;21;01m.\u001b[39;00m\u001b[38;5;21;01munits\u001b[39;00m\u001b[38;5;250m \u001b[39m\u001b[38;5;28;01mimport\u001b[39;00m Hz, ms, mV, nS, pF, pA\n\u001b[0;32m----> 4\u001b[0m \u001b[38;5;28;01mfrom\u001b[39;00m\u001b[38;5;250m \u001b[39m\u001b[38;5;21;01mdendrify\u001b[39;00m\u001b[38;5;250m \u001b[39m\u001b[38;5;28;01mimport\u001b[39;00m Dendrite, NeuronModel, Soma\n\u001b[1;32m      6\u001b[0m b\u001b[38;5;241m.\u001b[39mprefs\u001b[38;5;241m.\u001b[39mcodegen\u001b[38;5;241m.\u001b[39mtarget \u001b[38;5;241m=\u001b[39m \u001b[38;5;124m'\u001b[39m\u001b[38;5;124mnumpy\u001b[39m\u001b[38;5;124m'\u001b[39m  \u001b[38;5;66;03m# faster for simple simulations\u001b[39;00m\n",
      "\u001b[0;31mModuleNotFoundError\u001b[0m: No module named 'dendrify'"
     ]
    }
   ],
   "source": [
    "import brian2 as b\n",
    "from brian2.units import Hz, ms, mV, nS, pF, pA\n",
    "\n",
    "from dendrify import Dendrite, NeuronModel, Soma\n",
    "\n",
    "b.prefs.codegen.target = 'numpy'  # faster for simple simulations"
   ]
  },
  {
   "cell_type": "code",
   "execution_count": 2,
   "metadata": {},
   "outputs": [],
   "source": [
    "def create_neuron_model(soma, dend):\n",
    "    model = NeuronModel([(soma, dend, 15*nS)], v_rest=-60*mV)\n",
    "    model.add_params({\n",
    "        'Vth': -40*mV,\n",
    "        'tauw_soma': 150*ms,\n",
    "        'a_soma': 0*nS,\n",
    "        'b_soma': 50*pA,\n",
    "        'Vr': -50*mV\n",
    "    })\n",
    "    return model\n",
    "\n",
    "def create_neuron_group(model):\n",
    "    return model.make_neurongroup(\n",
    "        1, method='euler',\n",
    "        threshold='V_soma > Vth',\n",
    "        reset='V_soma = Vr; w_soma += b_soma',\n",
    "        refractory=4*ms\n",
    "    )\n",
    "\n",
    "def create_brian_objects(neuron):\n",
    "    poisson = b.PoissonGroup(10, rates=20*Hz)\n",
    "    syn = b.Synapses(poisson, neuron, on_pre='s_AMPA_x_dend += 1; s_NMDA_x_dend += 1')\n",
    "    syn.connect(p=1)\n",
    "    mon = b.StateMonitor(neuron, ['V_soma', 'V_dend', 'w_soma'], record=True)\n",
    "    return poisson, syn, mon\n",
    "\n",
    "def run_simulation(net):\n",
    "    b.start_scope()\n",
    "    b.seed(42)\n",
    "    net.run(500*ms)\n",
    "\n",
    "def plot_results(mon):\n",
    "    time = mon.t / ms\n",
    "    v_soma = mon.V_soma[0] / mV\n",
    "    v_dend = mon.V_dend[0] / mV\n",
    "    w = mon.w_soma[0] / pA\n",
    "\n",
    "    fig, (ax1, ax2) = b.subplots(2, 1, figsize=[6, 6], sharex=True)\n",
    "    ax1.plot(time, v_soma, label='soma')\n",
    "    ax1.plot(time, v_dend, label='dendrite', c='C3')\n",
    "    ax1.set_ylabel('Voltage (mV)')\n",
    "    ax1.legend()\n",
    "    ax2.plot(time, w, color='black', label='w')\n",
    "    ax2.set_ylabel('Adaptation current (pA)')\n",
    "    ax2.set_xlabel('Time (ms)')\n",
    "    ax2.legend()\n",
    "    fig.tight_layout()\n",
    "    b.show()\n",
    "\n",
    "def one_function_to_rule_them_all(soma, dend):\n",
    "    model = create_neuron_model(soma, dend)\n",
    "    neuron = create_neuron_group(model)\n",
    "    poisson, syn, mon = create_brian_objects(neuron)\n",
    "    net = b.Network(neuron, poisson, syn, mon)\n",
    "    run_simulation(net)\n",
    "    plot_results(mon)"
   ]
  },
  {
   "cell_type": "code",
   "execution_count": 3,
   "metadata": {},
   "outputs": [],
   "source": [
    "soma = Soma('soma', model='adaptiveIF', cm_abs=200*pF, gl_abs=10*nS)\n",
    "dend = Dendrite('dend', cm_abs=50*pF, gl_abs=2.5*nS)\n",
    "dend.synapse('AMPA', tag='x', g=3*nS,  t_decay=2*ms)\n",
    "dend.synapse('NMDA', tag='x', g=3*nS,  t_decay=60*ms)"
   ]
  },
  {
   "cell_type": "code",
   "execution_count": null,
   "metadata": {},
   "outputs": [],
   "source": [
    "one_function_to_rule_them_all(soma, dend)"
   ]
  },
  {
   "cell_type": "code",
   "execution_count": null,
   "metadata": {},
   "outputs": [],
   "source": [
    "print(soma.equations)"
   ]
  },
  {
   "cell_type": "code",
   "execution_count": null,
   "metadata": {},
   "outputs": [],
   "source": [
    "soma_custom1 = Soma('soma', cm_abs=200*pF, gl_abs=10*nS)\n",
    "print(soma_custom1.equations)"
   ]
  },
  {
   "cell_type": "code",
   "execution_count": null,
   "metadata": {},
   "outputs": [],
   "source": [
    "custom_eqs = '''\n",
    "dV_soma/dt = (gL_soma * (EL_soma-V_soma) + I_soma - w_soma) / C_soma  :volt\n",
    "dw_soma/dt = (a_soma * (V_soma-EL_soma) - w_soma) / tauw_soma  :amp'''\n",
    "\n",
    "soma_custom1.replace_equations(\n",
    "    'dV_soma/dt = (gL_soma * (EL_soma-V_soma) + I_soma) / C_soma  :volt',\n",
    "    custom_eqs)\n",
    "\n",
    "print(soma_custom1.equations)"
   ]
  },
  {
   "cell_type": "code",
   "execution_count": null,
   "metadata": {},
   "outputs": [],
   "source": [
    "one_function_to_rule_them_all(soma_custom1, dend)"
   ]
  },
  {
   "cell_type": "code",
   "execution_count": null,
   "metadata": {},
   "outputs": [],
   "source": [
    "soma_custom2 = Soma('soma', cm_abs=200*pF, gl_abs=10*nS)\n",
    "soma_custom2.replace_equations(\n",
    "    \"I_soma)\",\n",
    "    \"I_soma - w_soma)\")\n",
    "\n",
    "soma_custom2.add_equations(\n",
    "    'dw_soma/dt = (a_soma * (V_soma-EL_soma) - w_soma) / tauw_soma  :amp')\n",
    "\n",
    "print(soma_custom2.equations)"
   ]
  },
  {
   "cell_type": "code",
   "execution_count": null,
   "metadata": {},
   "outputs": [],
   "source": [
    "one_function_to_rule_them_all(soma_custom2, dend)"
   ]
  },
  {
   "cell_type": "code",
   "execution_count": null,
   "metadata": {},
   "outputs": [],
   "source": [
    "print(dend.equations)"
   ]
  },
  {
   "cell_type": "code",
   "execution_count": null,
   "metadata": {},
   "outputs": [],
   "source": [
    "dend_custom = Dendrite('dend', cm_abs=50*pF, gl_abs=2.5*nS)\n",
    "print(dend_custom.equations)"
   ]
  },
  {
   "cell_type": "code",
   "execution_count": null,
   "metadata": {},
   "outputs": [],
   "source": [
    "dend_custom.replace_equations(\n",
    "    'I_dend = I_ext_dend  :amp',\n",
    "    'I_dend = I_ext_dend + I_NMDA_x_dend + I_AMPA_x_dend  :amp'\n",
    "    )\n",
    "\n",
    "custom_synaptic_eqs = \"\"\"\n",
    "I_AMPA_x_dend = g_AMPA_x_dend * (E_AMPA-V_dend) * s_AMPA_x_dend * w_AMPA_x_dend  :amp\n",
    "ds_AMPA_x_dend/dt = -s_AMPA_x_dend / t_AMPA_decay_x_dend  :1\n",
    "I_NMDA_x_dend = g_NMDA_x_dend * (E_NMDA-V_dend) * s_NMDA_x_dend / (1 + Mg_con * exp(-Alpha_NMDA*(V_dend/mV+Gamma_NMDA)) / Beta_NMDA) * w_NMDA_x_dend  :amp\n",
    "ds_NMDA_x_dend/dt = -s_NMDA_x_dend/t_NMDA_decay_x_dend  :1\"\"\"\n",
    "\n",
    "\n",
    "dend_custom.add_equations(custom_synaptic_eqs)\n",
    "\n",
    "print(dend_custom.equations)\n"
   ]
  },
  {
   "cell_type": "code",
   "execution_count": null,
   "metadata": {},
   "outputs": [],
   "source": [
    "one_function_to_rule_them_all(soma, dend_custom)"
   ]
  },
  {
   "cell_type": "code",
   "execution_count": null,
   "metadata": {},
   "outputs": [],
   "source": [
    "dend_custom_params = {\n",
    "    't_AMPA_decay_x_dend': 2*ms,  # tau AMPA\n",
    "    't_NMDA_decay_x_dend': 60*ms, # tau NMDA\n",
    "    'g_AMPA_x_dend': 3*nS,        # AMPA conductance\n",
    "    'g_NMDA_x_dend': 3*nS,        # NMDA conductance\n",
    "    'w_NMDA_x_dend': 1,           # NMDA weight\n",
    "    'w_AMPA_x_dend': 1,           # AMPA weight\n",
    "    }\n",
    "dend_custom.add_params(dend_custom_params)\n",
    "\n",
    "one_function_to_rule_them_all(soma, dend_custom)"
   ]
  },
  {
   "cell_type": "code",
   "execution_count": null,
   "metadata": {},
   "outputs": [],
   "source": [
    "# Create and customize soma\n",
    "soma = Soma('soma', cm_abs=200*pF, gl_abs=10*nS)\n",
    "soma.replace_equations(\"I_soma)\", \"I_soma - w)\")\n",
    "soma.add_equations('dw/dt = (a * (V_soma-EL_soma) - w) / tauw  :amp')\n",
    "\n",
    "# Create and customize dendrite\n",
    "dend = Dendrite('dend', cm_abs=50*pF, gl_abs=2.5*nS)\n",
    "dend.replace_equations(\n",
    "    'I_dend = I_ext_dend  :amp',\n",
    "    'I_dend = I_ext_dend + I_NMDA + I_AMPA  :amp')\n",
    "custom_synaptic_eqs = \"\"\"\n",
    "I_AMPA = g_AMPA * (E_AMPA-V_dend) * s_AMPA  :amp\n",
    "ds_AMPA/dt = -s_AMPA / t_AMPA_decay  :1\n",
    "I_NMDA = g_NMDA * (E_NMDA-V_dend) * s_NMDA / (1 + Mg_con * exp(-Alpha_NMDA*(V_dend/mV+Gamma_NMDA)) / Beta_NMDA)  :amp\n",
    "ds_NMDA/dt = -s_NMDA/t_NMDA_decay  :1\"\"\"\n",
    "dend.add_equations(custom_synaptic_eqs)\n",
    "\n",
    "# Create neuron model and add parameters\n",
    "model = NeuronModel([(soma, dend, 15*nS)], v_rest=-60*mV)\n",
    "model.add_params({\n",
    "        # spiking parameters\n",
    "        'Vth': -40*mV,\n",
    "        'tauw': 150*ms,\n",
    "        'a': 0*nS,\n",
    "        'b': 50*pA,\n",
    "        'Vr': -50*mV,\n",
    "        # synaptic parameters\n",
    "        't_AMPA_decay': 2*ms,\n",
    "        't_NMDA_decay': 60*ms,\n",
    "        'g_AMPA': 3*nS,\n",
    "        'g_NMDA': 3*nS})\n",
    "\n",
    "# Create neuron group\n",
    "neuron = model.make_neurongroup(\n",
    "        1, method='euler',\n",
    "        threshold='V_soma > Vth',\n",
    "        reset='V_soma = Vr; w += b',\n",
    "        refractory=4*ms)\n",
    "\n",
    "# Create necessary Brian objects\n",
    "poisson = b.PoissonGroup(10, rates=20*Hz)\n",
    "syn = b.Synapses(poisson, neuron, on_pre='s_AMPA += 1; s_NMDA += 1')\n",
    "syn.connect(p=1)\n",
    "mon = b.StateMonitor(neuron, ['V_soma', 'V_dend', 'w'], record=True)\n",
    "net = b.Network(neuron, poisson, syn, mon)\n",
    "\n",
    "# Run simulation\n",
    "b.start_scope()\n",
    "b.seed(42)\n",
    "net.run(500*ms)\n",
    "\n",
    "# Plot results\n",
    "time = mon.t / ms\n",
    "v_soma = mon.V_soma[0] / mV\n",
    "v_dend = mon.V_dend[0] / mV\n",
    "w = mon.w[0] / pA\n",
    "\n",
    "fig, (ax1, ax2) = b.subplots(2, 1, figsize=[6, 6], sharex=True)\n",
    "ax1.plot(time, v_soma, label='soma')\n",
    "ax1.plot(time, v_dend, label='dendrite', c='C3')\n",
    "ax1.set_ylabel('Voltage (mV)')\n",
    "ax1.legend()\n",
    "ax2.plot(time, w, color='black', label='w')\n",
    "ax2.set_ylabel('Adaptation current (pA)')\n",
    "ax2.set_xlabel('Time (ms)')\n",
    "ax2.legend()\n",
    "fig.tight_layout()\n",
    "b.show()"
   ]
  }
 ],
 "metadata": {
  "kernelspec": {
   "display_name": "brian2",
   "language": "python",
   "name": "python3"
  },
  "language_info": {
   "codemirror_mode": {
    "name": "ipython",
    "version": 3
   },
   "file_extension": ".py",
   "mimetype": "text/x-python",
   "name": "python",
   "nbconvert_exporter": "python",
   "pygments_lexer": "ipython3",
   "version": "3.13.1"
  }
 },
 "nbformat": 4,
 "nbformat_minor": 2
}
