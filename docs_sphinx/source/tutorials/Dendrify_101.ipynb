{
 "cells": [
  {
   "cell_type": "markdown",
   "metadata": {
    "id": "4y7lu4Q9-IHe"
   },
   "source": [
    "# Dendrify basics  \n",
    "\n",
    "In this tutorial, we are going to cover the following topics:\n",
    "\n",
    "* Getting to know Dendrify's basic object types and their functions\n",
    "* How to generate model equations\n",
    "* How to set model parameters\n"
   ]
  },
  {
   "cell_type": "markdown",
   "metadata": {
    "id": "fg5O2CCigZKS"
   },
   "source": [
    "## Imports"
   ]
  },
  {
   "cell_type": "code",
   "execution_count": 1,
   "metadata": {
    "id": "BR17RLDWfy76"
   },
   "outputs": [],
   "source": [
    "import brian2 as b\n",
    "import dendrify as d\n",
    "from brian2.units import *\n",
    "from dendrify import Soma, Dendrite, PointNeuronModel\n",
    "\n",
    "b.prefs.codegen.target = 'numpy' # faster for simple models and short simulations"
   ]
  },
  {
   "cell_type": "markdown",
   "metadata": {
    "id": "NATfjiUXiqen"
   },
   "source": [
    "## Generating model equations\n",
    "\n",
    "**Important:**\\\n",
    "*In this first part of the tutorial we are going to focus only on how to create single compartments and how to update their equations. In the second part, we will describe how to provide model parameters.*"
   ]
  },
  {
   "cell_type": "markdown",
   "metadata": {
    "id": "LrJj7WlSzVmc"
   },
   "source": [
    "### Creating compartments"
   ]
  },
  {
   "cell_type": "code",
   "execution_count": 2,
   "metadata": {
    "id": "4CSCYDemipZZ"
   },
   "outputs": [],
   "source": [
    "# Setting a compartment's name is the barely minimum you need to create it\n",
    "soma = Soma('soma')\n",
    "dend = Dendrite('dend')"
   ]
  },
  {
   "cell_type": "markdown",
   "metadata": {},
   "source": [
    "*A compartment's name is important to differentiate between compartments of the same multicompartmental model.*"
   ]
  },
  {
   "cell_type": "code",
   "execution_count": 3,
   "metadata": {
    "colab": {
     "base_uri": "https://localhost:8080/"
    },
    "id": "eoFMZcrujD9O",
    "outputId": "5af66c97-05df-4677-ef8b-cd50eeb3aaf3"
   },
   "outputs": [
    {
     "name": "stdout",
     "output_type": "stream",
     "text": [
      "True\n",
      "True\n"
     ]
    }
   ],
   "source": [
    "# Soma and Dendrite objects share many functions since they both inherit from\n",
    "# the same class\n",
    "print(isinstance(soma, d.Compartment))\n",
    "print(isinstance(dend, d.Compartment))"
   ]
  },
  {
   "cell_type": "markdown",
   "metadata": {
    "id": "1A09v3WBmo10"
   },
   "source": [
    "### Accessing equations"
   ]
  },
  {
   "cell_type": "code",
   "execution_count": 4,
   "metadata": {
    "colab": {
     "base_uri": "https://localhost:8080/"
    },
    "id": "EdtyDYEqkJnU",
    "outputId": "74c2bb5e-d647-4263-d229-b50d6a6c7bbf"
   },
   "outputs": [
    {
     "name": "stdout",
     "output_type": "stream",
     "text": [
      "dV_soma/dt = (gL_soma * (EL_soma-V_soma) + I_soma) / C_soma  :volt\n",
      "I_soma = I_ext_soma  :amp\n",
      "I_ext_soma  :amp\n"
     ]
    }
   ],
   "source": [
    "print(soma.equations)"
   ]
  },
  {
   "cell_type": "markdown",
   "metadata": {},
   "source": [
    "Explanation: \\\n",
    "*line 1: Equations describing how the membrane voltage changes over time* \\\n",
    "*line 2: I_soma is a variable that sums all sources of input current into a compartment* \\\n",
    "*line 3: I_ext_soma is a helper variable for injecting external input current*"
   ]
  },
  {
   "cell_type": "code",
   "execution_count": 5,
   "metadata": {
    "colab": {
     "base_uri": "https://localhost:8080/"
    },
    "id": "2T98I4v0kiBH",
    "outputId": "689fb64d-6f19-41c3-fbe7-df8da8d608f9"
   },
   "outputs": [
    {
     "name": "stdout",
     "output_type": "stream",
     "text": [
      "dV_dend/dt = (gL_dend * (EL_dend-V_dend) + I_dend) / C_dend  :volt\n",
      "I_dend = I_ext_dend  :amp\n",
      "I_ext_dend  :amp\n"
     ]
    }
   ],
   "source": [
    "print(dend.equations)"
   ]
  },
  {
   "cell_type": "markdown",
   "metadata": {
    "id": "Ha7jqirqz05p"
   },
   "source": [
    "### Synaptic currents"
   ]
  },
  {
   "cell_type": "code",
   "execution_count": 6,
   "metadata": {
    "id": "OVHJYxV8mgAo"
   },
   "outputs": [],
   "source": [
    "# The usage of tags helps differentiate between same type of synapses that reach\n",
    "# a single compartment (also see below).\n",
    "dend.synapse('AMPA', tag='A')"
   ]
  },
  {
   "cell_type": "code",
   "execution_count": 7,
   "metadata": {
    "colab": {
     "base_uri": "https://localhost:8080/"
    },
    "id": "kd-uoy-n4TDY",
    "outputId": "fe1a5889-ecf3-4631-8956-10f43cab02c2"
   },
   "outputs": [
    {
     "name": "stdout",
     "output_type": "stream",
     "text": [
      "dV_dend/dt = (gL_dend * (EL_dend-V_dend) + I_dend) / C_dend  :volt\n",
      "I_dend = I_ext_dend + I_AMPA_A_dend  :amp\n",
      "I_ext_dend  :amp\n",
      "I_AMPA_A_dend = g_AMPA_A_dend * (E_AMPA-V_dend) * s_AMPA_A_dend * w_AMPA_A_dend  :amp\n",
      "ds_AMPA_A_dend/dt = -s_AMPA_A_dend / t_AMPA_decay_A_dend  :1\n"
     ]
    }
   ],
   "source": [
    "print(dend.equations)"
   ]
  },
  {
   "cell_type": "markdown",
   "metadata": {
    "id": "Vi5MhW8J1FE4"
   },
   "source": [
    "*   **s_AMPA_x_dend** -> the state variable for this channel (0 -> closed).\n",
    "*   **w_AMPA_x_dend** -> the weight variable. Useful for plasticity (1 by default)."
   ]
  },
  {
   "cell_type": "code",
   "execution_count": 8,
   "metadata": {
    "colab": {
     "base_uri": "https://localhost:8080/"
    },
    "id": "hitkBvw-uwoq",
    "outputId": "1f09c289-7536-43ee-e329-c556354dac6b"
   },
   "outputs": [
    {
     "name": "stdout",
     "output_type": "stream",
     "text": [
      "dV_dend/dt = (gL_dend * (EL_dend-V_dend) + I_dend) / C_dend  :volt\n",
      "I_dend = I_ext_dend + I_AMPA_B_dend + I_AMPA_A_dend  :amp\n",
      "I_ext_dend  :amp\n",
      "I_AMPA_A_dend = g_AMPA_A_dend * (E_AMPA-V_dend) * s_AMPA_A_dend * w_AMPA_A_dend  :amp\n",
      "ds_AMPA_A_dend/dt = -s_AMPA_A_dend / t_AMPA_decay_A_dend  :1\n",
      "I_AMPA_B_dend = g_AMPA_B_dend * (E_AMPA-V_dend) * s_AMPA_B_dend * w_AMPA_B_dend  :amp\n",
      "ds_AMPA_B_dend/dt = -s_AMPA_B_dend / t_AMPA_decay_B_dend  :1\n"
     ]
    }
   ],
   "source": [
    "dend.synapse('AMPA', tag='B')\n",
    "print(dend.equations)"
   ]
  },
  {
   "cell_type": "code",
   "execution_count": 9,
   "metadata": {
    "colab": {
     "base_uri": "https://localhost:8080/"
    },
    "id": "IyfXL37q7qlY",
    "outputId": "30730644-5341-4d5d-94ae-02dbda097047"
   },
   "outputs": [
    {
     "name": "stdout",
     "output_type": "stream",
     "text": [
      "dV_dend/dt = (gL_dend * (EL_dend-V_dend) + I_dend) / C_dend  :volt\n",
      "I_dend = I_ext_dend + I_NMDA_C_dend + I_AMPA_B_dend + I_AMPA_A_dend  :amp\n",
      "I_ext_dend  :amp\n",
      "I_AMPA_A_dend = g_AMPA_A_dend * (E_AMPA-V_dend) * s_AMPA_A_dend * w_AMPA_A_dend  :amp\n",
      "ds_AMPA_A_dend/dt = -s_AMPA_A_dend / t_AMPA_decay_A_dend  :1\n",
      "I_AMPA_B_dend = g_AMPA_B_dend * (E_AMPA-V_dend) * s_AMPA_B_dend * w_AMPA_B_dend  :amp\n",
      "ds_AMPA_B_dend/dt = -s_AMPA_B_dend / t_AMPA_decay_B_dend  :1\n",
      "I_NMDA_C_dend = g_NMDA_C_dend * (E_NMDA-V_dend) * s_NMDA_C_dend / (1 + Mg_con * exp(-Alpha_NMDA*(V_dend/mV+Gamma_NMDA)) / Beta_NMDA) * w_NMDA_C_dend  :amp\n",
      "ds_NMDA_C_dend/dt = -s_NMDA_C_dend/t_NMDA_decay_C_dend  :1\n"
     ]
    }
   ],
   "source": [
    "dend.synapse('NMDA', tag='C')\n",
    "print(dend.equations)"
   ]
  },
  {
   "cell_type": "markdown",
   "metadata": {
    "id": "5dFQAGxw46hv"
   },
   "source": [
    "### Random noise"
   ]
  },
  {
   "cell_type": "code",
   "execution_count": 10,
   "metadata": {
    "colab": {
     "base_uri": "https://localhost:8080/"
    },
    "id": "u7WEPnjA42B2",
    "outputId": "f8373d8f-4231-4771-c82b-62907d2a7d90"
   },
   "outputs": [
    {
     "name": "stdout",
     "output_type": "stream",
     "text": [
      "dV_dend/dt = (gL_dend * (EL_dend-V_dend) + I_dend) / C_dend  :volt\n",
      "I_dend = I_ext_dend + I_noise_dend + I_NMDA_C_dend + I_AMPA_B_dend + I_AMPA_A_dend  :amp\n",
      "I_ext_dend  :amp\n",
      "I_AMPA_A_dend = g_AMPA_A_dend * (E_AMPA-V_dend) * s_AMPA_A_dend * w_AMPA_A_dend  :amp\n",
      "ds_AMPA_A_dend/dt = -s_AMPA_A_dend / t_AMPA_decay_A_dend  :1\n",
      "I_AMPA_B_dend = g_AMPA_B_dend * (E_AMPA-V_dend) * s_AMPA_B_dend * w_AMPA_B_dend  :amp\n",
      "ds_AMPA_B_dend/dt = -s_AMPA_B_dend / t_AMPA_decay_B_dend  :1\n",
      "I_NMDA_C_dend = g_NMDA_C_dend * (E_NMDA-V_dend) * s_NMDA_C_dend / (1 + Mg_con * exp(-Alpha_NMDA*(V_dend/mV+Gamma_NMDA)) / Beta_NMDA) * w_NMDA_C_dend  :amp\n",
      "ds_NMDA_C_dend/dt = -s_NMDA_C_dend/t_NMDA_decay_C_dend  :1\n",
      "dI_noise_dend/dt = (mean_noise_dend-I_noise_dend) / tau_noise_dend + sigma_noise_dend * (sqrt(2/(tau_noise_dend*dt)) * randn()) :amp\n"
     ]
    }
   ],
   "source": [
    "dend.noise()  # adds equations for Gaussian white noise\n",
    "print(dend.equations)"
   ]
  },
  {
   "cell_type": "markdown",
   "metadata": {
    "id": "GoZLHuaP5c8T"
   },
   "source": [
    "*NOTE: You can find more info about how random noise is impemented in [Brian's documentation](https://brian2.readthedocs.io/en/stable/user/models.html?highlight=noise#noise).*"
   ]
  },
  {
   "cell_type": "markdown",
   "metadata": {
    "id": "GspVuWJsEMlc"
   },
   "source": [
    "### Dendritic spikes"
   ]
  },
  {
   "cell_type": "code",
   "execution_count": 11,
   "metadata": {
    "colab": {
     "base_uri": "https://localhost:8080/"
    },
    "id": "xOzgQ0QivWMr",
    "outputId": "6f9a23aa-56b2-41dc-d0e5-6a68e5a7f39b"
   },
   "outputs": [
    {
     "name": "stdout",
     "output_type": "stream",
     "text": [
      "dV_dend/dt = (gL_dend * (EL_dend-V_dend) + I_dend) / C_dend  :volt\n",
      "I_dend = I_ext_dend + I_rise_Na_dend + I_fall_Na_dend + I_noise_dend + I_NMDA_C_dend + I_AMPA_B_dend + I_AMPA_A_dend  :amp\n",
      "I_ext_dend  :amp\n",
      "I_AMPA_A_dend = g_AMPA_A_dend * (E_AMPA-V_dend) * s_AMPA_A_dend * w_AMPA_A_dend  :amp\n",
      "ds_AMPA_A_dend/dt = -s_AMPA_A_dend / t_AMPA_decay_A_dend  :1\n",
      "I_AMPA_B_dend = g_AMPA_B_dend * (E_AMPA-V_dend) * s_AMPA_B_dend * w_AMPA_B_dend  :amp\n",
      "ds_AMPA_B_dend/dt = -s_AMPA_B_dend / t_AMPA_decay_B_dend  :1\n",
      "I_NMDA_C_dend = g_NMDA_C_dend * (E_NMDA-V_dend) * s_NMDA_C_dend / (1 + Mg_con * exp(-Alpha_NMDA*(V_dend/mV+Gamma_NMDA)) / Beta_NMDA) * w_NMDA_C_dend  :amp\n",
      "ds_NMDA_C_dend/dt = -s_NMDA_C_dend/t_NMDA_decay_C_dend  :1\n",
      "dI_noise_dend/dt = (mean_noise_dend-I_noise_dend) / tau_noise_dend + sigma_noise_dend * (sqrt(2/(tau_noise_dend*dt)) * randn()) :amp\n",
      "I_rise_Na_dend = g_rise_Na_dend * (E_rise_Na-V_dend)  :amp\n",
      "I_fall_Na_dend = g_fall_Na_dend * (E_fall_Na-V_dend)  :amp\n",
      "g_rise_Na_dend = g_rise_max_Na_dend * int(t_in_timesteps <= spiketime_Na_dend + duration_rise_Na_dend) * gate_Na_dend :siemens\n",
      "g_fall_Na_dend = g_fall_max_Na_dend * int(t_in_timesteps <= spiketime_Na_dend + offset_fall_Na_dend + duration_fall_Na_dend) * int(t_in_timesteps >= spiketime_Na_dend + offset_fall_Na_dend) *  gate_Na_dend :siemens\n",
      "spiketime_Na_dend  :1\n",
      "gate_Na_dend  :1\n"
     ]
    }
   ],
   "source": [
    "dend.dspikes('Na')\n",
    "print(dend.equations)"
   ]
  },
  {
   "cell_type": "markdown",
   "metadata": {},
   "source": [
    "*NOTE: You can find more info about how dendritic spiking is impemented [here](https://dendrify.readthedocs.io/en/latest/api/dendrite.html#dendrify.compartment.Dendrite.dspikes).*"
   ]
  },
  {
   "cell_type": "markdown",
   "metadata": {
    "id": "dI2QKeh3FI2S"
   },
   "source": [
    "### Connecting compartments"
   ]
  },
  {
   "cell_type": "code",
   "execution_count": 12,
   "metadata": {
    "colab": {
     "base_uri": "https://localhost:8080/"
    },
    "id": "EIpkNOaJEpT5",
    "outputId": "d67c2b30-c60c-4329-e58a-c083b7c71f09"
   },
   "outputs": [],
   "source": [
    "dend.connect(soma)"
   ]
  },
  {
   "cell_type": "markdown",
   "metadata": {
    "id": "zzba0-KoD12O"
   },
   "source": [
    "*NOTE: Ιgnore any errors that might be generated from the above command for now. They will make sense in a while.*"
   ]
  },
  {
   "cell_type": "code",
   "execution_count": 13,
   "metadata": {
    "colab": {
     "base_uri": "https://localhost:8080/"
    },
    "id": "RGnKjqUoEw-4",
    "outputId": "ca62ee2f-76fe-42bd-c6e3-f5af77beff24"
   },
   "outputs": [
    {
     "name": "stdout",
     "output_type": "stream",
     "text": [
      "dV_dend/dt = (gL_dend * (EL_dend-V_dend) + I_dend) / C_dend  :volt\n",
      "I_dend = I_ext_dend + I_soma_dend  + I_rise_Na_dend + I_fall_Na_dend + I_noise_dend + I_NMDA_C_dend + I_AMPA_B_dend + I_AMPA_A_dend  :amp\n",
      "I_ext_dend  :amp\n",
      "I_AMPA_A_dend = g_AMPA_A_dend * (E_AMPA-V_dend) * s_AMPA_A_dend * w_AMPA_A_dend  :amp\n",
      "ds_AMPA_A_dend/dt = -s_AMPA_A_dend / t_AMPA_decay_A_dend  :1\n",
      "I_AMPA_B_dend = g_AMPA_B_dend * (E_AMPA-V_dend) * s_AMPA_B_dend * w_AMPA_B_dend  :amp\n",
      "ds_AMPA_B_dend/dt = -s_AMPA_B_dend / t_AMPA_decay_B_dend  :1\n",
      "I_NMDA_C_dend = g_NMDA_C_dend * (E_NMDA-V_dend) * s_NMDA_C_dend / (1 + Mg_con * exp(-Alpha_NMDA*(V_dend/mV+Gamma_NMDA)) / Beta_NMDA) * w_NMDA_C_dend  :amp\n",
      "ds_NMDA_C_dend/dt = -s_NMDA_C_dend/t_NMDA_decay_C_dend  :1\n",
      "dI_noise_dend/dt = (mean_noise_dend-I_noise_dend) / tau_noise_dend + sigma_noise_dend * (sqrt(2/(tau_noise_dend*dt)) * randn()) :amp\n",
      "I_rise_Na_dend = g_rise_Na_dend * (E_rise_Na-V_dend)  :amp\n",
      "I_fall_Na_dend = g_fall_Na_dend * (E_fall_Na-V_dend)  :amp\n",
      "g_rise_Na_dend = g_rise_max_Na_dend * int(t_in_timesteps <= spiketime_Na_dend + duration_rise_Na_dend) * gate_Na_dend :siemens\n",
      "g_fall_Na_dend = g_fall_max_Na_dend * int(t_in_timesteps <= spiketime_Na_dend + offset_fall_Na_dend + duration_fall_Na_dend) * int(t_in_timesteps >= spiketime_Na_dend + offset_fall_Na_dend) *  gate_Na_dend :siemens\n",
      "spiketime_Na_dend  :1\n",
      "gate_Na_dend  :1\n",
      "I_soma_dend = (V_soma-V_dend) * g_soma_dend  :amp\n"
     ]
    }
   ],
   "source": [
    "print(dend.equations)"
   ]
  },
  {
   "cell_type": "code",
   "execution_count": 14,
   "metadata": {
    "colab": {
     "base_uri": "https://localhost:8080/"
    },
    "id": "RZF6f7VcFQTF",
    "outputId": "4a722c2a-5712-44fd-ca4a-5e76607cf1de"
   },
   "outputs": [
    {
     "name": "stdout",
     "output_type": "stream",
     "text": [
      "dV_soma/dt = (gL_soma * (EL_soma-V_soma) + I_soma) / C_soma  :volt\n",
      "I_soma = I_ext_soma + I_dend_soma   :amp\n",
      "I_ext_soma  :amp\n",
      "I_dend_soma = (V_dend-V_soma) * g_dend_soma  :amp\n"
     ]
    }
   ],
   "source": [
    "print(soma.equations)"
   ]
  },
  {
   "cell_type": "markdown",
   "metadata": {
    "id": "HlFu9pEOGtS4"
   },
   "source": [
    "### User-defined equations"
   ]
  },
  {
   "cell_type": "markdown",
   "metadata": {
    "id": "cUH-lXneEFiU"
   },
   "source": [
    "*Equations are Python strings, thus you can adapt them with standard string formatting practices.*"
   ]
  },
  {
   "cell_type": "code",
   "execution_count": 15,
   "metadata": {
    "colab": {
     "base_uri": "https://localhost:8080/"
    },
    "id": "wiJsv5IXG0Vi",
    "outputId": "87633fe7-a056-4ade-ca20-e682d360db66"
   },
   "outputs": [
    {
     "data": {
      "text/plain": [
       "str"
      ]
     },
     "execution_count": 15,
     "metadata": {},
     "output_type": "execute_result"
    }
   ],
   "source": [
    "type(dend.equations)"
   ]
  },
  {
   "cell_type": "code",
   "execution_count": 16,
   "metadata": {
    "colab": {
     "base_uri": "https://localhost:8080/"
    },
    "id": "9LEl6oRLHob8",
    "outputId": "9362240a-89a1-415d-ceef-9136b0fbd51e"
   },
   "outputs": [
    {
     "name": "stdout",
     "output_type": "stream",
     "text": [
      "dV_dend/dt = (gL_dend * (EL_dend-V_dend) + I_dend) / C_dend  :volt\n",
      "I_dend = I_ext_dend + I_soma_dend  + I_rise_Na_dend + I_fall_Na_dend + I_noise_dend + I_NMDA_C_dend + I_AMPA_B_dend + I_AMPA_A_dend  :amp\n",
      "I_ext_dend  :amp\n",
      "I_AMPA_A_dend = g_AMPA_A_dend * (E_AMPA-V_dend) * s_AMPA_A_dend * w_AMPA_A_dend  :amp\n",
      "ds_AMPA_A_dend/dt = -s_AMPA_A_dend / t_AMPA_decay_A_dend  :1\n",
      "I_AMPA_B_dend = g_AMPA_B_dend * (E_AMPA-V_dend) * s_AMPA_B_dend * w_AMPA_B_dend  :amp\n",
      "ds_AMPA_B_dend/dt = -s_AMPA_B_dend / t_AMPA_decay_B_dend  :1\n",
      "I_NMDA_C_dend = g_NMDA_C_dend * (E_NMDA-V_dend) * s_NMDA_C_dend / (1 + Mg_con * exp(-Alpha_NMDA*(V_dend/mV+Gamma_NMDA)) / Beta_NMDA) * w_NMDA_C_dend  :amp\n",
      "ds_NMDA_C_dend/dt = -s_NMDA_C_dend/t_NMDA_decay_C_dend  :1\n",
      "dI_noise_dend/dt = (mean_noise_dend-I_noise_dend) / tau_noise_dend + sigma_noise_dend * (sqrt(2/(tau_noise_dend*dt)) * randn()) :amp\n",
      "I_rise_Na_dend = g_rise_Na_dend * (E_rise_Na-V_dend)  :amp\n",
      "I_fall_Na_dend = g_fall_Na_dend * (E_fall_Na-V_dend)  :amp\n",
      "g_rise_Na_dend = g_rise_max_Na_dend * int(t_in_timesteps <= spiketime_Na_dend + duration_rise_Na_dend) * gate_Na_dend :siemens\n",
      "g_fall_Na_dend = g_fall_max_Na_dend * int(t_in_timesteps <= spiketime_Na_dend + offset_fall_Na_dend + duration_fall_Na_dend) * int(t_in_timesteps >= spiketime_Na_dend + offset_fall_Na_dend) *  gate_Na_dend :siemens\n",
      "spiketime_Na_dend  :1\n",
      "gate_Na_dend  :1\n",
      "I_soma_dend = (V_soma-V_dend) * g_soma_dend  :amp\n",
      "dcns/dt = -cns/tau_cns  :1\n"
     ]
    }
   ],
   "source": [
    "custom_model = \"dcns/dt = -cns/tau_cns  :1\"\n",
    "eqs = f\"{dend.equations}\\n{custom_model}\"\n",
    "print(eqs)"
   ]
  },
  {
   "cell_type": "markdown",
   "metadata": {},
   "source": [
    "**Important:** \\\n",
    "*Although it is possible to add custom model equations, it can be quite tricky for non-experienced Brian2/Dendrify users. If this is a feature that you need to implement and you are not sure how, please check one of the available [support options](https://dendrify.readthedocs.io/en/latest/support.html).*"
   ]
  },
  {
   "cell_type": "markdown",
   "metadata": {
    "id": "LWwQ57oWFnoG"
   },
   "source": [
    "## Setting model parameters\n",
    "\n",
    "*In this second part of the tutorial we are going to explore how to access, generate or update all model parameters.*"
   ]
  },
  {
   "cell_type": "markdown",
   "metadata": {
    "id": "18EB0MRkK3WR"
   },
   "source": [
    "### Accessing model properties"
   ]
  },
  {
   "cell_type": "code",
   "execution_count": 17,
   "metadata": {
    "colab": {
     "base_uri": "https://localhost:8080/"
    },
    "id": "ECmM9IGcvmE4",
    "outputId": "d2a63116-383c-47e4-da8c-8878a8006002"
   },
   "outputs": [
    {
     "name": "stderr",
     "output_type": "stream",
     "text": [
      "ERROR [dendrify.ephysproperties:351]\n",
      "Could not calculate the g_couple for 'dend' and 'soma'.\n",
      "Please make sure that [length, diameter, r_axial] are\n",
      "available for both compartments.\n",
      "\n",
      "WARNING [dendrify.ephysproperties:196]\n",
      "Missing parameters [length | diameter] for 'dend'.\n",
      "Could not calculate the area of 'dend', returned None.\n",
      "\n",
      "WARNING [dendrify.ephysproperties:225]\n",
      "Could not calculate the [capacitance] of 'dend', returned None.\n",
      "\n",
      "WARNING [dendrify.ephysproperties:196]\n",
      "Missing parameters [length | diameter] for 'dend'.\n",
      "Could not calculate the area of 'dend', returned None.\n",
      "\n",
      "WARNING [dendrify.ephysproperties:254]\n",
      "Could not calculate the [g_leakage] of 'dend', returned None.\n",
      "\n",
      "ERROR [dendrify.ephysproperties:279]\n",
      "Could not resolve [EL_dend] for 'dend'.\n",
      "\n",
      "ERROR [dendrify.ephysproperties:279]\n",
      "Could not resolve [C_dend] for 'dend'.\n",
      "\n",
      "ERROR [dendrify.ephysproperties:279]\n",
      "Could not resolve [gL_dend] for 'dend'.\n",
      "\n"
     ]
    },
    {
     "data": {
      "text/plain": [
       "{'w_AMPA_A_dend': 1.0,\n",
       " 'w_AMPA_B_dend': 1.0,\n",
       " 'w_NMDA_C_dend': 1.0,\n",
       " 'tau_noise_dend': 20. * msecond,\n",
       " 'sigma_noise_dend': 1. * pamp,\n",
       " 'mean_noise_dend': 0. * amp,\n",
       " 'g_soma_dend': None,\n",
       " 'Vth_Na_dend': None,\n",
       " 'g_rise_max_Na_dend': None,\n",
       " 'g_fall_max_Na_dend': None,\n",
       " 'E_rise_Na': None,\n",
       " 'E_fall_Na': None,\n",
       " 'duration_rise_Na_dend': None,\n",
       " 'duration_fall_Na_dend': None,\n",
       " 'offset_fall_Na_dend': None,\n",
       " 'refractory_Na_dend': None,\n",
       " 'E_AMPA': 0. * volt,\n",
       " 'E_NMDA': 0. * volt,\n",
       " 'E_GABA': -80. * mvolt,\n",
       " 'E_Na': 70. * mvolt,\n",
       " 'E_K': -89. * mvolt,\n",
       " 'E_Ca': 136. * mvolt,\n",
       " 'Mg_con': 1.0,\n",
       " 'Alpha_NMDA': 0.062,\n",
       " 'Beta_NMDA': 3.57,\n",
       " 'Gamma_NMDA': 0}"
      ]
     },
     "execution_count": 17,
     "metadata": {},
     "output_type": "execute_result"
    }
   ],
   "source": [
    "dend.parameters"
   ]
  },
  {
   "cell_type": "markdown",
   "metadata": {
    "id": "q_mi6gmP6L40"
   },
   "source": [
    "*Dendrify is designed to fail loudly!!! Errors and warnings are raised if you try to access parameters that do not exist, or if something important is missing.*"
   ]
  },
  {
   "cell_type": "markdown",
   "metadata": {
    "id": "cXS_FuIuLApo"
   },
   "source": [
    "### Default parameters"
   ]
  },
  {
   "cell_type": "markdown",
   "metadata": {
    "id": "nvST35V1EkFt"
   },
   "source": [
    "*NOTE: Dendrify has a built-in library of default simulation parameters that can be views or adjusted using default_params() and update_default_params() respectively.*"
   ]
  },
  {
   "cell_type": "code",
   "execution_count": 18,
   "metadata": {
    "colab": {
     "base_uri": "https://localhost:8080/"
    },
    "id": "zNC-AFP9pJeX",
    "outputId": "726a8d08-aade-4fda-be9b-5294790cded1"
   },
   "outputs": [
    {
     "data": {
      "text/plain": [
       "{'E_AMPA': 0. * volt,\n",
       " 'E_NMDA': 0. * volt,\n",
       " 'E_GABA': -80. * mvolt,\n",
       " 'E_Na': 70. * mvolt,\n",
       " 'E_K': -89. * mvolt,\n",
       " 'E_Ca': 136. * mvolt,\n",
       " 'Mg_con': 1.0,\n",
       " 'Alpha_NMDA': 0.062,\n",
       " 'Beta_NMDA': 3.57,\n",
       " 'Gamma_NMDA': 0}"
      ]
     },
     "execution_count": 18,
     "metadata": {},
     "output_type": "execute_result"
    }
   ],
   "source": [
    "d.default_params()"
   ]
  },
  {
   "cell_type": "code",
   "execution_count": 19,
   "metadata": {
    "colab": {
     "base_uri": "https://localhost:8080/"
    },
    "id": "qWmWEYWiqE01",
    "outputId": "506b93a9-fc87-4a1d-f2ce-66a3ef1a44ea"
   },
   "outputs": [
    {
     "data": {
      "text/plain": [
       "{'E_AMPA': 0. * volt,\n",
       " 'E_NMDA': 0. * volt,\n",
       " 'E_GABA': -80. * mvolt,\n",
       " 'E_Na': 70. * mvolt,\n",
       " 'E_K': -89. * mvolt,\n",
       " 'E_Ca': 2024,\n",
       " 'Mg_con': 1.0,\n",
       " 'Alpha_NMDA': 0.062,\n",
       " 'Beta_NMDA': 3.57,\n",
       " 'Gamma_NMDA': 0}"
      ]
     },
     "execution_count": 19,
     "metadata": {},
     "output_type": "execute_result"
    }
   ],
   "source": [
    "d.update_default_params({\"E_Ca\":2024})\n",
    "d.default_params()"
   ]
  },
  {
   "cell_type": "markdown",
   "metadata": {
    "id": "eb0zei_i2r0f"
   },
   "source": [
    "### Ephys parameters"
   ]
  },
  {
   "cell_type": "markdown",
   "metadata": {
    "id": "K8SHIG5y7E9g"
   },
   "source": [
    "*In Dendrify, each compartment is treated as an open cylinder. Although an RC circuit does not have physical dimensions, length and diameter are needed to estimate a compartment's theoretical surface area.*"
   ]
  },
  {
   "cell_type": "code",
   "execution_count": 20,
   "metadata": {
    "id": "EcGBrUj82z8_"
   },
   "outputs": [],
   "source": [
    "soma = Soma('soma', length=20*um, diameter=20*um,\n",
    "            cm=1*uF/(cm**2), gl=40*uS/(cm**2),\n",
    "            r_axial=150*ohm*cm, v_rest=-70*mV)\n",
    "\n",
    "dend = Dendrite('dend', length=20*um, diameter=20*um,\n",
    "                cm=1*uF/(cm**2), gl=40*uS/(cm**2),\n",
    "                r_axial=150*ohm*cm, v_rest=-70*mV)"
   ]
  },
  {
   "cell_type": "code",
   "execution_count": 21,
   "metadata": {
    "colab": {
     "base_uri": "https://localhost:8080/"
    },
    "id": "UcPgE9843bJo",
    "outputId": "ed020d71-d351-4e24-b096-5f333449e201"
   },
   "outputs": [
    {
     "name": "stdout",
     "output_type": "stream",
     "text": [
      "\n",
      "OBJECT\n",
      "------\n",
      "<class 'dendrify.compartment.Soma'>\n",
      "\n",
      "\n",
      "EQUATIONS\n",
      "---------\n",
      "dV_soma/dt = (gL_soma * (EL_soma-V_soma) + I_soma) / C_soma  :volt\n",
      "I_soma = I_ext_soma  :amp\n",
      "I_ext_soma  :amp\n",
      "\n",
      "\n",
      "PARAMETERS\n",
      "----------\n",
      "{'Alpha_NMDA': 0.062,\n",
      " 'Beta_NMDA': 3.57,\n",
      " 'C_soma': 12.56637061 * pfarad,\n",
      " 'EL_soma': -70. * mvolt,\n",
      " 'E_AMPA': 0. * volt,\n",
      " 'E_Ca': 2024,\n",
      " 'E_GABA': -80. * mvolt,\n",
      " 'E_K': -89. * mvolt,\n",
      " 'E_NMDA': 0. * volt,\n",
      " 'E_Na': 70. * mvolt,\n",
      " 'Gamma_NMDA': 0,\n",
      " 'Mg_con': 1.0,\n",
      " 'gL_soma': 0.50265482 * nsiemens}\n",
      "\n",
      "\n",
      "USER PARAMETERS\n",
      "---------------\n",
      "{'_dimensionless': False,\n",
      " 'cm': 0.01 * metre ** -4 * kilogram ** -1 * second ** 4 * amp ** 2,\n",
      " 'cm_abs': None,\n",
      " 'diameter': 20. * umetre,\n",
      " 'gl': 0.4 * metre ** -4 * kilogram ** -1 * second ** 3 * amp ** 2,\n",
      " 'gl_abs': None,\n",
      " 'length': 20. * umetre,\n",
      " 'name': 'soma',\n",
      " 'r_axial': 1.5 * metre ** 3 * kilogram * second ** -3 * amp ** -2,\n",
      " 'scale_factor': 1.0,\n",
      " 'spine_factor': 1.0,\n",
      " 'v_rest': -70. * mvolt}\n"
     ]
    }
   ],
   "source": [
    "print(soma) # no more errors :)"
   ]
  },
  {
   "cell_type": "code",
   "execution_count": 22,
   "metadata": {
    "colab": {
     "base_uri": "https://localhost:8080/",
     "height": 37
    },
    "id": "lEGbWHAO3iOw",
    "outputId": "bc668298-0aed-4d9c-d56f-3c32a157b134"
   },
   "outputs": [
    {
     "data": {
      "text/latex": [
       "$1256.637061435917\\,\\mathrm{um^2}$"
      ],
      "text/plain": [
       "1256.63706144 * umetre2"
      ]
     },
     "execution_count": 22,
     "metadata": {},
     "output_type": "execute_result"
    }
   ],
   "source": [
    "# The surface area of an equivalent open cylinder\n",
    "soma.area"
   ]
  },
  {
   "cell_type": "code",
   "execution_count": 23,
   "metadata": {
    "colab": {
     "base_uri": "https://localhost:8080/",
     "height": 37
    },
    "id": "Za2WRvIt4T_z",
    "outputId": "93ed1e09-03bc-4de7-9859-b084a5b86143"
   },
   "outputs": [
    {
     "data": {
      "text/latex": [
       "$12.566370614359167\\,\\mathrm{p}\\mathrm{F}$"
      ],
      "text/plain": [
       "12.56637061 * pfarad"
      ]
     },
     "execution_count": 23,
     "metadata": {},
     "output_type": "execute_result"
    }
   ],
   "source": [
    "# Absolute capacitance (specific capacitance [cm] multiplied by area)\n",
    "soma.capacitance"
   ]
  },
  {
   "cell_type": "code",
   "execution_count": 24,
   "metadata": {
    "colab": {
     "base_uri": "https://localhost:8080/",
     "height": 37
    },
    "id": "Q-vEq2Ou4VCd",
    "outputId": "5db0c7f9-624c-4545-c810-82a338855de8"
   },
   "outputs": [
    {
     "data": {
      "text/latex": [
       "$0.5026548245743667\\,\\mathrm{n}\\mathrm{S}$"
      ],
      "text/plain": [
       "0.50265482 * nsiemens"
      ]
     },
     "execution_count": 24,
     "metadata": {},
     "output_type": "execute_result"
    }
   ],
   "source": [
    "# Absolute leakage conductance (specific leakage conductance [gl] multiplied by area)\n",
    "soma.g_leakage"
   ]
  },
  {
   "cell_type": "markdown",
   "metadata": {
    "id": "_sG16pZZdiyi"
   },
   "source": [
    "### Synaptic parameters"
   ]
  },
  {
   "cell_type": "code",
   "execution_count": 25,
   "metadata": {
    "colab": {
     "base_uri": "https://localhost:8080/"
    },
    "id": "61zf_Lm0cngU",
    "outputId": "9366e9f1-4903-4d7c-cc0e-8f94956bb523"
   },
   "outputs": [
    {
     "name": "stdout",
     "output_type": "stream",
     "text": [
      "\n",
      "OBJECT\n",
      "------\n",
      "<class 'dendrify.compartment.Dendrite'>\n",
      "\n",
      "\n",
      "EQUATIONS\n",
      "---------\n",
      "dV_dend/dt = (gL_dend * (EL_dend-V_dend) + I_dend) / C_dend  :volt\n",
      "I_dend = I_ext_dend + I_AMPA_A_dend  :amp\n",
      "I_ext_dend  :amp\n",
      "I_AMPA_A_dend = g_AMPA_A_dend * (E_AMPA-V_dend) * s_AMPA_A_dend * w_AMPA_A_dend  :amp\n",
      "ds_AMPA_A_dend/dt = -s_AMPA_A_dend / t_AMPA_decay_A_dend  :1\n",
      "\n",
      "\n",
      "PARAMETERS\n",
      "----------\n",
      "{'Alpha_NMDA': 0.062,\n",
      " 'Beta_NMDA': 3.57,\n",
      " 'C_dend': 12.56637061 * pfarad,\n",
      " 'EL_dend': -70. * mvolt,\n",
      " 'E_AMPA': 0. * volt,\n",
      " 'E_Ca': 2024,\n",
      " 'E_GABA': -80. * mvolt,\n",
      " 'E_K': -89. * mvolt,\n",
      " 'E_NMDA': 0. * volt,\n",
      " 'E_Na': 70. * mvolt,\n",
      " 'Gamma_NMDA': 0,\n",
      " 'Mg_con': 1.0,\n",
      " 'gL_dend': 0.50265482 * nsiemens,\n",
      " 'g_AMPA_A_dend': 1. * nsiemens,\n",
      " 't_AMPA_decay_A_dend': 5. * msecond,\n",
      " 'w_AMPA_A_dend': 1.0}\n",
      "\n",
      "\n",
      "EVENTS\n",
      "------\n",
      "[]\n",
      "\n",
      "\n",
      "EVENT CONDITIONS\n",
      "----------------\n",
      "{}\n",
      "\n",
      "\n",
      "USER PARAMETERS\n",
      "---------------\n",
      "{'cm': 0.01 * metre ** -4 * kilogram ** -1 * second ** 4 * amp ** 2,\n",
      " 'diameter': 20. * umetre,\n",
      " 'gl': 0.4 * metre ** -4 * kilogram ** -1 * second ** 3 * amp ** 2,\n",
      " 'length': 20. * umetre,\n",
      " 'name': 'dend',\n",
      " 'r_axial': 1.5 * metre ** 3 * kilogram * second ** -3 * amp ** -2,\n",
      " 'scale_factor': 1.0,\n",
      " 'spine_factor': 1.0,\n",
      " 'v_rest': -70. * mvolt}\n"
     ]
    }
   ],
   "source": [
    "dend.synapse('AMPA', 'A', g=1*nS, t_decay=5*ms)\n",
    "print(dend)"
   ]
  },
  {
   "cell_type": "code",
   "execution_count": 26,
   "metadata": {
    "colab": {
     "base_uri": "https://localhost:8080/"
    },
    "id": "9plJm75LdItc",
    "outputId": "ed2499a1-dc39-48cb-a38b-d389c315479a"
   },
   "outputs": [
    {
     "name": "stdout",
     "output_type": "stream",
     "text": [
      "\n",
      "OBJECT\n",
      "------\n",
      "<class 'dendrify.compartment.Dendrite'>\n",
      "\n",
      "\n",
      "EQUATIONS\n",
      "---------\n",
      "dV_dend/dt = (gL_dend * (EL_dend-V_dend) + I_dend) / C_dend  :volt\n",
      "I_dend = I_ext_dend + I_NMDA_B_dend + I_NMDA_A_dend + I_AMPA_A_dend  :amp\n",
      "I_ext_dend  :amp\n",
      "I_AMPA_A_dend = g_AMPA_A_dend * (E_AMPA-V_dend) * s_AMPA_A_dend * w_AMPA_A_dend  :amp\n",
      "ds_AMPA_A_dend/dt = -s_AMPA_A_dend / t_AMPA_decay_A_dend  :1\n",
      "I_NMDA_A_dend = g_NMDA_A_dend * (E_NMDA-V_dend) * s_NMDA_A_dend / (1 + Mg_con * exp(-Alpha_NMDA*(V_dend/mV+Gamma_NMDA)) / Beta_NMDA) * w_NMDA_A_dend  :amp\n",
      "ds_NMDA_A_dend/dt = -s_NMDA_A_dend/t_NMDA_decay_A_dend  :1\n",
      "I_NMDA_B_dend = g_NMDA_B_dend * (E_NMDA-V_dend) * x_NMDA_B_dend / (1 + Mg_con * exp(-Alpha_NMDA*(V_dend/mV+Gamma_NMDA)) / Beta_NMDA) * w_NMDA_B_dend  :amp\n",
      "dx_NMDA_B_dend/dt = (-x_NMDA_B_dend/t_NMDA_decay_B_dend) + s_NMDA_B_dend/ms  :1\n",
      "ds_NMDA_B_dend/dt = -s_NMDA_B_dend / t_NMDA_rise_B_dend  :1\n",
      "\n",
      "\n",
      "PARAMETERS\n",
      "----------\n",
      "{'Alpha_NMDA': 0.062,\n",
      " 'Beta_NMDA': 3.57,\n",
      " 'C_dend': 12.56637061 * pfarad,\n",
      " 'EL_dend': -70. * mvolt,\n",
      " 'E_AMPA': 0. * volt,\n",
      " 'E_Ca': 2024,\n",
      " 'E_GABA': -80. * mvolt,\n",
      " 'E_K': -89. * mvolt,\n",
      " 'E_NMDA': 0. * volt,\n",
      " 'E_Na': 70. * mvolt,\n",
      " 'Gamma_NMDA': 0,\n",
      " 'Mg_con': 1.0,\n",
      " 'gL_dend': 0.50265482 * nsiemens,\n",
      " 'g_AMPA_A_dend': 1. * nsiemens,\n",
      " 'g_NMDA_A_dend': 1. * nsiemens,\n",
      " 'g_NMDA_B_dend': 1. * nsiemens,\n",
      " 't_AMPA_decay_A_dend': 5. * msecond,\n",
      " 't_NMDA_decay_A_dend': 60. * msecond,\n",
      " 't_NMDA_decay_B_dend': 60. * msecond,\n",
      " 't_NMDA_rise_B_dend': 5. * msecond,\n",
      " 'w_AMPA_A_dend': 1.0,\n",
      " 'w_NMDA_A_dend': 1.0,\n",
      " 'w_NMDA_B_dend': 1.0}\n",
      "\n",
      "\n",
      "EVENTS\n",
      "------\n",
      "[]\n",
      "\n",
      "\n",
      "EVENT CONDITIONS\n",
      "----------------\n",
      "{}\n",
      "\n",
      "\n",
      "USER PARAMETERS\n",
      "---------------\n",
      "{'cm': 0.01 * metre ** -4 * kilogram ** -1 * second ** 4 * amp ** 2,\n",
      " 'diameter': 20. * umetre,\n",
      " 'gl': 0.4 * metre ** -4 * kilogram ** -1 * second ** 3 * amp ** 2,\n",
      " 'length': 20. * umetre,\n",
      " 'name': 'dend',\n",
      " 'r_axial': 1.5 * metre ** 3 * kilogram * second ** -3 * amp ** -2,\n",
      " 'scale_factor': 1.0,\n",
      " 'spine_factor': 1.0,\n",
      " 'v_rest': -70. * mvolt}\n"
     ]
    }
   ],
   "source": [
    "# NMDA synapse with instant activation and exponential decay:\n",
    "dend.synapse('NMDA', 'A', g=1*nS, t_decay=60*ms)\n",
    "\n",
    "# NMDA synapse as a sum of two exponentials with rise and decay kinetics:\n",
    "dend.synapse('NMDA', 'B', g=1*nS, t_decay=60*ms, t_rise=5*ms)\n",
    "\n",
    "print(dend)"
   ]
  },
  {
   "cell_type": "markdown",
   "metadata": {
    "id": "S1cO0OnODFIM"
   },
   "source": [
    "### Random noise parameters"
   ]
  },
  {
   "cell_type": "code",
   "execution_count": 27,
   "metadata": {
    "id": "jW9cizORC-7Z"
   },
   "outputs": [],
   "source": [
    "dend.noise(mean=0*pA, sigma=10*pA, tau=1*ms)"
   ]
  },
  {
   "cell_type": "markdown",
   "metadata": {
    "id": "2GmemYW843qc"
   },
   "source": [
    "### dSpike parameters"
   ]
  },
  {
   "cell_type": "markdown",
   "metadata": {
    "id": "srIhg8ywDOXu"
   },
   "source": [
    "*We will explore this topic in detail in another tutorial. For now, you can view some of the available [examples that implement dendritic spiking](https://dendrify.readthedocs.io/en/latest/examples/compartmental.html).*"
   ]
  },
  {
   "cell_type": "markdown",
   "metadata": {
    "id": "0a4bqv1bGpaO"
   },
   "source": [
    "### Coupling parameters"
   ]
  },
  {
   "cell_type": "code",
   "execution_count": 28,
   "metadata": {
    "id": "ywUg7Tsd450K"
   },
   "outputs": [],
   "source": [
    "# Automatic approach\n",
    "soma.connect(dend, g=10*nS)"
   ]
  },
  {
   "cell_type": "code",
   "execution_count": 29,
   "metadata": {
    "colab": {
     "base_uri": "https://localhost:8080/"
    },
    "id": "MKbPUsQPHXrz",
    "outputId": "e7f26114-59eb-4fae-cc3c-fde0eb0308d5"
   },
   "outputs": [
    {
     "name": "stdout",
     "output_type": "stream",
     "text": [
      "\n",
      "OBJECT\n",
      "------\n",
      "<class 'dendrify.compartment.Soma'>\n",
      "\n",
      "\n",
      "EQUATIONS\n",
      "---------\n",
      "dV_soma/dt = (gL_soma * (EL_soma-V_soma) + I_soma) / C_soma  :volt\n",
      "I_soma = I_ext_soma + I_dend_soma   :amp\n",
      "I_ext_soma  :amp\n",
      "I_dend_soma = (V_dend-V_soma) * g_dend_soma  :amp\n",
      "\n",
      "\n",
      "PARAMETERS\n",
      "----------\n",
      "{'Alpha_NMDA': 0.062,\n",
      " 'Beta_NMDA': 3.57,\n",
      " 'C_soma': 12.56637061 * pfarad,\n",
      " 'EL_soma': -70. * mvolt,\n",
      " 'E_AMPA': 0. * volt,\n",
      " 'E_Ca': 2024,\n",
      " 'E_GABA': -80. * mvolt,\n",
      " 'E_K': -89. * mvolt,\n",
      " 'E_NMDA': 0. * volt,\n",
      " 'E_Na': 70. * mvolt,\n",
      " 'Gamma_NMDA': 0,\n",
      " 'Mg_con': 1.0,\n",
      " 'gL_soma': 0.50265482 * nsiemens,\n",
      " 'g_dend_soma': 10. * nsiemens}\n",
      "\n",
      "\n",
      "USER PARAMETERS\n",
      "---------------\n",
      "{'_dimensionless': False,\n",
      " 'cm': 0.01 * metre ** -4 * kilogram ** -1 * second ** 4 * amp ** 2,\n",
      " 'cm_abs': None,\n",
      " 'diameter': 20. * umetre,\n",
      " 'gl': 0.4 * metre ** -4 * kilogram ** -1 * second ** 3 * amp ** 2,\n",
      " 'gl_abs': None,\n",
      " 'length': 20. * umetre,\n",
      " 'name': 'soma',\n",
      " 'r_axial': 1.5 * metre ** 3 * kilogram * second ** -3 * amp ** -2,\n",
      " 'scale_factor': 1.0,\n",
      " 'spine_factor': 1.0,\n",
      " 'v_rest': -70. * mvolt}\n"
     ]
    }
   ],
   "source": [
    "print(soma)"
   ]
  },
  {
   "cell_type": "markdown",
   "metadata": {
    "id": "BVC5W-wqUAw3"
   },
   "source": [
    "### Dimensionless compartments"
   ]
  },
  {
   "cell_type": "markdown",
   "metadata": {
    "id": "cZ7hn5vbVMRb"
   },
   "source": [
    "*If you know the model's desired capacitance and leakage conductance you can pass them dirrectly as a parameters when creating a compartment.*"
   ]
  },
  {
   "cell_type": "code",
   "execution_count": 30,
   "metadata": {
    "id": "hq8jwM4oHYgY"
   },
   "outputs": [],
   "source": [
    "soma = Soma('soma', cm_abs=200*pF, gl_abs=20*nS, v_rest=-70*mV)\n",
    "dend = Dendrite('dend', cm_abs=200*pF, gl_abs=20*nS, v_rest=-70*mV)"
   ]
  },
  {
   "cell_type": "markdown",
   "metadata": {
    "id": "dc91WzlfWOsA"
   },
   "source": [
    "*Since these compartments have no dimensions, the automatic connection approach will not work, since it calculates the resistance between two adjucent half-cylinders.*"
   ]
  },
  {
   "cell_type": "code",
   "execution_count": 31,
   "metadata": {
    "colab": {
     "base_uri": "https://localhost:8080/",
     "height": 418
    },
    "id": "bRzVy6XvV4as",
    "outputId": "4570210b-08c5-4ca2-b860-7a3dc97abd41"
   },
   "outputs": [
    {
     "ename": "DimensionlessCompartmentError",
     "evalue": "Cannot automatically calculate the coupling \nconductance of dimensionless compartments. To resolve this error, perform\none of the following:\n\n1. Provide [length, diameter, r_axial] for both 'soma' and 'dend'.\n\n2. Turn both compartment into dimensionless by providing only values for \n   [cm_abs, gl_abs] and then connect them using an exact coupling conductance.",
     "output_type": "error",
     "traceback": [
      "\u001b[0;31m---------------------------------------------------------------------------\u001b[0m",
      "\u001b[0;31mDimensionlessCompartmentError\u001b[0m             Traceback (most recent call last)",
      "Cell \u001b[0;32mIn[31], line 1\u001b[0m\n\u001b[0;32m----> 1\u001b[0m \u001b[43msoma\u001b[49m\u001b[38;5;241;43m.\u001b[39;49m\u001b[43mconnect\u001b[49m\u001b[43m(\u001b[49m\u001b[43mdend\u001b[49m\u001b[43m)\u001b[49m\n",
      "File \u001b[0;32m~/.conda/envs/brian/lib/python3.13/site-packages/dendrify/compartment.py:186\u001b[0m, in \u001b[0;36mCompartment.connect\u001b[0;34m(self, other, g)\u001b[0m\n\u001b[1;32m    183\u001b[0m     \u001b[38;5;28;01mraise\u001b[39;00m \u001b[38;5;167;01mValueError\u001b[39;00m(\n\u001b[1;32m    184\u001b[0m         \u001b[38;5;124m\"\u001b[39m\u001b[38;5;124mCannot connect compartments with the same name.\u001b[39m\u001b[38;5;130;01m\\n\u001b[39;00m\u001b[38;5;124m\"\u001b[39m)\n\u001b[1;32m    185\u001b[0m \u001b[38;5;28;01mif\u001b[39;00m (\u001b[38;5;28mself\u001b[39m\u001b[38;5;241m.\u001b[39mdimensionless \u001b[38;5;129;01mor\u001b[39;00m other\u001b[38;5;241m.\u001b[39mdimensionless) \u001b[38;5;129;01mand\u001b[39;00m \u001b[38;5;28misinstance\u001b[39m(g, \u001b[38;5;28mstr\u001b[39m):\n\u001b[0;32m--> 186\u001b[0m     \u001b[38;5;28;01mraise\u001b[39;00m DimensionlessCompartmentError(\n\u001b[1;32m    187\u001b[0m         (\u001b[38;5;124m\"\u001b[39m\u001b[38;5;124mCannot automatically calculate the coupling \u001b[39m\u001b[38;5;130;01m\\n\u001b[39;00m\u001b[38;5;124mconductance of \u001b[39m\u001b[38;5;124m\"\u001b[39m\n\u001b[1;32m    188\u001b[0m          \u001b[38;5;124m\"\u001b[39m\u001b[38;5;124mdimensionless compartments. To resolve this error, perform\u001b[39m\u001b[38;5;130;01m\\n\u001b[39;00m\u001b[38;5;124m\"\u001b[39m\n\u001b[1;32m    189\u001b[0m          \u001b[38;5;124m\"\u001b[39m\u001b[38;5;124mone of the following:\u001b[39m\u001b[38;5;130;01m\\n\u001b[39;00m\u001b[38;5;130;01m\\n\u001b[39;00m\u001b[38;5;124m\"\u001b[39m\n\u001b[1;32m    190\u001b[0m          \u001b[38;5;124mf\u001b[39m\u001b[38;5;124m\"\u001b[39m\u001b[38;5;124m1. Provide [length, diameter, r_axial] for both \u001b[39m\u001b[38;5;124m'\u001b[39m\u001b[38;5;132;01m{\u001b[39;00m\u001b[38;5;28mself\u001b[39m\u001b[38;5;241m.\u001b[39mname\u001b[38;5;132;01m}\u001b[39;00m\u001b[38;5;124m'\u001b[39m\u001b[38;5;124m\"\u001b[39m\n\u001b[1;32m    191\u001b[0m          \u001b[38;5;124mf\u001b[39m\u001b[38;5;124m\"\u001b[39m\u001b[38;5;124m and \u001b[39m\u001b[38;5;124m'\u001b[39m\u001b[38;5;132;01m{\u001b[39;00mother\u001b[38;5;241m.\u001b[39mname\u001b[38;5;132;01m}\u001b[39;00m\u001b[38;5;124m'\u001b[39m\u001b[38;5;124m.\u001b[39m\u001b[38;5;130;01m\\n\u001b[39;00m\u001b[38;5;130;01m\\n\u001b[39;00m\u001b[38;5;124m\"\u001b[39m\n\u001b[1;32m    192\u001b[0m          \u001b[38;5;124mf\u001b[39m\u001b[38;5;124m\"\u001b[39m\u001b[38;5;124m2. Turn both compartment into dimensionless by providing only\u001b[39m\u001b[38;5;124m\"\u001b[39m\n\u001b[1;32m    193\u001b[0m          \u001b[38;5;124m\"\u001b[39m\u001b[38;5;124m values for \u001b[39m\u001b[38;5;130;01m\\n\u001b[39;00m\u001b[38;5;124m   [cm_abs, gl_abs] and then connect them using \u001b[39m\u001b[38;5;124m\"\u001b[39m\n\u001b[1;32m    194\u001b[0m          \u001b[38;5;124m\"\u001b[39m\u001b[38;5;124man exact coupling conductance.\u001b[39m\u001b[38;5;124m\"\u001b[39m\n\u001b[1;32m    195\u001b[0m          )\n\u001b[1;32m    196\u001b[0m     )\n\u001b[1;32m    198\u001b[0m \u001b[38;5;66;03m# Current from Comp2 -> Comp1\u001b[39;00m\n\u001b[1;32m    199\u001b[0m forward_current \u001b[38;5;241m=\u001b[39m \u001b[38;5;124m'\u001b[39m\u001b[38;5;124mI_\u001b[39m\u001b[38;5;132;01m{1}\u001b[39;00m\u001b[38;5;124m_\u001b[39m\u001b[38;5;132;01m{0}\u001b[39;00m\u001b[38;5;124m = (V_\u001b[39m\u001b[38;5;132;01m{1}\u001b[39;00m\u001b[38;5;124m-V_\u001b[39m\u001b[38;5;132;01m{0}\u001b[39;00m\u001b[38;5;124m) * g_\u001b[39m\u001b[38;5;132;01m{1}\u001b[39;00m\u001b[38;5;124m_\u001b[39m\u001b[38;5;132;01m{0}\u001b[39;00m\u001b[38;5;124m  :amp\u001b[39m\u001b[38;5;124m'\u001b[39m\u001b[38;5;241m.\u001b[39mformat(\n\u001b[1;32m    200\u001b[0m     \u001b[38;5;28mself\u001b[39m\u001b[38;5;241m.\u001b[39mname, other\u001b[38;5;241m.\u001b[39mname)\n",
      "\u001b[0;31mDimensionlessCompartmentError\u001b[0m: Cannot automatically calculate the coupling \nconductance of dimensionless compartments. To resolve this error, perform\none of the following:\n\n1. Provide [length, diameter, r_axial] for both 'soma' and 'dend'.\n\n2. Turn both compartment into dimensionless by providing only values for \n   [cm_abs, gl_abs] and then connect them using an exact coupling conductance."
     ]
    }
   ],
   "source": [
    "soma.connect(dend)"
   ]
  },
  {
   "cell_type": "markdown",
   "metadata": {
    "id": "lCCfJCJJWxEt"
   },
   "source": [
    "*However, you can still connect them by explicitly specifying the coupling conductance as shown bellow. **IMPORTANT: This trick also works for compartments that have dimensions as well**.*"
   ]
  },
  {
   "cell_type": "code",
   "execution_count": 32,
   "metadata": {
    "id": "Y3mLnFyYWC5L"
   },
   "outputs": [],
   "source": [
    "soma.connect(dend, g=10*nS)"
   ]
  },
  {
   "cell_type": "code",
   "execution_count": 33,
   "metadata": {
    "colab": {
     "base_uri": "https://localhost:8080/"
    },
    "id": "ebpd-TbhXdZE",
    "outputId": "711a3985-c56d-427c-dba5-0107e975f17a"
   },
   "outputs": [
    {
     "name": "stdout",
     "output_type": "stream",
     "text": [
      "\n",
      "OBJECT\n",
      "------\n",
      "<class 'dendrify.compartment.Soma'>\n",
      "\n",
      "\n",
      "EQUATIONS\n",
      "---------\n",
      "dV_soma/dt = (gL_soma * (EL_soma-V_soma) + I_soma) / C_soma  :volt\n",
      "I_soma = I_ext_soma + I_dend_soma   :amp\n",
      "I_ext_soma  :amp\n",
      "I_dend_soma = (V_dend-V_soma) * g_dend_soma  :amp\n",
      "\n",
      "\n",
      "PARAMETERS\n",
      "----------\n",
      "{'Alpha_NMDA': 0.062,\n",
      " 'Beta_NMDA': 3.57,\n",
      " 'C_soma': 200. * pfarad,\n",
      " 'EL_soma': -70. * mvolt,\n",
      " 'E_AMPA': 0. * volt,\n",
      " 'E_Ca': 2024,\n",
      " 'E_GABA': -80. * mvolt,\n",
      " 'E_K': -89. * mvolt,\n",
      " 'E_NMDA': 0. * volt,\n",
      " 'E_Na': 70. * mvolt,\n",
      " 'Gamma_NMDA': 0,\n",
      " 'Mg_con': 1.0,\n",
      " 'gL_soma': 20. * nsiemens,\n",
      " 'g_dend_soma': 10. * nsiemens}\n",
      "\n",
      "\n",
      "USER PARAMETERS\n",
      "---------------\n",
      "{'_dimensionless': True,\n",
      " 'cm': None,\n",
      " 'cm_abs': 200. * pfarad,\n",
      " 'diameter': None,\n",
      " 'gl': None,\n",
      " 'gl_abs': 20. * nsiemens,\n",
      " 'length': None,\n",
      " 'name': 'soma',\n",
      " 'r_axial': None,\n",
      " 'scale_factor': None,\n",
      " 'spine_factor': None,\n",
      " 'v_rest': -70. * mvolt}\n"
     ]
    }
   ],
   "source": [
    "print(soma)"
   ]
  },
  {
   "cell_type": "markdown",
   "metadata": {},
   "source": [
    "## Creating point neurons"
   ]
  },
  {
   "cell_type": "markdown",
   "metadata": {},
   "source": [
    "*Dendrify also supports point (single-compartment) neuron models that share most of the functionalities of compartment objects (Soma/Dendrite). Note that here, there is no need to specify a compartment's name.*"
   ]
  },
  {
   "cell_type": "code",
   "execution_count": 34,
   "metadata": {},
   "outputs": [
    {
     "name": "stdout",
     "output_type": "stream",
     "text": [
      "\n",
      "OBJECT\n",
      "------\n",
      "<class 'dendrify.neuronmodel.PointNeuronModel'>\n",
      "\n",
      "\n",
      "EQUATIONS\n",
      "---------\n",
      "dV/dt = (gL * (EL-V) + I) / C  :volt\n",
      "I = I_ext + I_AMPA_x + I_noise  :amp\n",
      "I_ext  :amp\n",
      "dI_noise/dt = (mean_noise-I_noise) / tau_noise + sigma_noise * (sqrt(2/(tau_noise*dt)) * randn()) :amp\n",
      "I_AMPA_x = g_AMPA_x * (E_AMPA-V) * s_AMPA_x * w_AMPA_x  :amp\n",
      "ds_AMPA_x/dt = -s_AMPA_x / t_AMPA_decay_x  :1\n",
      "\n",
      "\n",
      "PARAMETERS\n",
      "----------\n",
      "{'Alpha_NMDA': 0.062,\n",
      " 'Beta_NMDA': 3.57,\n",
      " 'C': 200. * pfarad,\n",
      " 'EL': -60. * mvolt,\n",
      " 'E_AMPA': 0. * volt,\n",
      " 'E_Ca': 2024,\n",
      " 'E_GABA': -80. * mvolt,\n",
      " 'E_K': -89. * mvolt,\n",
      " 'E_NMDA': 0. * volt,\n",
      " 'E_Na': 70. * mvolt,\n",
      " 'Gamma_NMDA': 0,\n",
      " 'Mg_con': 1.0,\n",
      " 'gL': 10. * nsiemens,\n",
      " 'g_AMPA_x': 2. * nsiemens,\n",
      " 'mean_noise': 10. * pamp,\n",
      " 'sigma_noise': 100. * pamp,\n",
      " 't_AMPA_decay_x': 2. * msecond,\n",
      " 'tau_noise': 20. * msecond,\n",
      " 'w_AMPA_x': 1.0}\n",
      "\n",
      "\n",
      "USER PARAMETERS\n",
      "---------------\n",
      "{'_dimensionless': True,\n",
      " 'cm': None,\n",
      " 'cm_abs': 200. * pfarad,\n",
      " 'diameter': None,\n",
      " 'gl': None,\n",
      " 'gl_abs': 10. * nsiemens,\n",
      " 'length': None,\n",
      " 'name': None,\n",
      " 'r_axial': None,\n",
      " 'scale_factor': None,\n",
      " 'spine_factor': None,\n",
      " 'v_rest': -60. * mvolt}\n"
     ]
    }
   ],
   "source": [
    "model = PointNeuronModel(model='leakyIF', v_rest=-60*mV,\n",
    "                         cm_abs=200*pF, gl_abs=10*nS)\n",
    "model.noise(mean=10*pA, sigma=100*pA, tau=20*ms)\n",
    "model.synapse('AMPA', tag='x', g=2*nS, t_decay=2*ms)\n",
    "\n",
    "print(model)"
   ]
  },
  {
   "cell_type": "markdown",
   "metadata": {},
   "source": [
    "*Congratulations on completing the first Dendrify tutorial!! By now, you might have built some basic intuition on how to create compartmental models with Dendrify. To see how to do more interesting things and actually run simulations, please check [Tutorial 2](https://dendrify.readthedocs.io/en/latest/tutorials/Dendrify_simulations.html).*"
   ]
  }
 ],
 "metadata": {
  "colab": {
   "provenance": [],
   "toc_visible": true
  },
  "kernelspec": {
   "display_name": "brian",
   "language": "python",
   "name": "python3"
  },
  "language_info": {
   "codemirror_mode": {
    "name": "ipython",
    "version": 3
   },
   "file_extension": ".py",
   "mimetype": "text/x-python",
   "name": "python",
   "nbconvert_exporter": "python",
   "pygments_lexer": "ipython3",
   "version": "3.13.0"
  }
 },
 "nbformat": 4,
 "nbformat_minor": 0
}
