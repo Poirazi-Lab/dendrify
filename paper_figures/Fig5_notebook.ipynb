{
  "nbformat": 4,
  "nbformat_minor": 0,
  "metadata": {
    "colab": {
      "provenance": [],
      "collapsed_sections": [
        "H0LtGIRA1PDV"
      ],
      "toc_visible": true,
      "authorship_tag": "ABX9TyNFkvxZtTe1gLANXi5yBUWR",
      "include_colab_link": true
    },
    "kernelspec": {
      "name": "python3",
      "display_name": "Python 3"
    },
    "language_info": {
      "name": "python"
    }
  },
  "cells": [
    {
      "cell_type": "markdown",
      "metadata": {
        "id": "view-in-github",
        "colab_type": "text"
      },
      "source": [
        "<a href=\"https://colab.research.google.com/github/Poirazi-Lab/dendrify/blob/main/paper_figures/Fig5_notebook.ipynb\" target=\"_parent\"><img src=\"https://colab.research.google.com/assets/colab-badge.svg\" alt=\"Open In Colab\"/></a>"
      ]
    },
    {
      "cell_type": "markdown",
      "source": [
        "## Overview\n",
        "> *In this interactive Python notebook, we present and briefly discuss the code needed to replicate the model and the results shown in Figure 5 of the manuscript. In this example our main goal is to illustrate that:*\n",
        ">\n",
        "> - *The simplified CA1 model we presented, can reproduce complex pathway interaction rules that rely on dendritic VGICs, in addition to essential electrophysiological properties of real neurons (Fig. 4).*\n",
        ">\n",
        ">\n",
        "> **Important:** *since Figure 5 requires in total 242 different simulations, it is impractical and time-concuming to perform all of them in this notebook. Therefore, to recreate panels d-f we will utilise existing data that will be downloaded automatically from an [online repository (fig7-data.zip)](https://github.com/Poirazi-Lab/dendrify/blob/main/paper_figures/other/fig7-data.zip).*\n",
        ">\n",
        "> <hr>\n",
        ">\n",
        "> *__Note__: In case you are unfamiliar with how Python notebooks work and you would like to run or rerun the entire code, simply select one of the options bellow:*\n",
        ">\n",
        "> - **Runtime ➝ Run all**\n",
        "> - **Runtime ➝ Restart and run all**\n",
        ">\n",
        "> *located on the top menu and wait a few seconds until all cells finish running.*\n",
        "> <hr>\n",
        ">\n",
        "> *All source code of the current Dendrify version is available on* [GitHub](https://github.com/Poirazi-Lab/dendrify)"
      ],
      "metadata": {
        "id": "H0LtGIRA1PDV"
      }
    },
    {
      "cell_type": "markdown",
      "source": [
        "## Setup"
      ],
      "metadata": {
        "id": "-g9AYMKzB7Pd"
      }
    },
    {
      "cell_type": "code",
      "execution_count": 1,
      "metadata": {
        "colab": {
          "base_uri": "https://localhost:8080/"
        },
        "id": "HlN1GN3h1LS_",
        "outputId": "e68c5f5d-45ac-4ea9-ba98-0190d4fdb994"
      },
      "outputs": [
        {
          "output_type": "stream",
          "name": "stdout",
          "text": [
            "fatal: destination path 'dendrify' already exists and is not an empty directory.\n"
          ]
        }
      ],
      "source": [
        "#@title Install dependencies and download simulated data (might take a few seconds)\n",
        "import os\n",
        "if 'dendrify' in os.getcwd():\n",
        "    pass\n",
        "else:\n",
        "    !git clone https://github.com/Poirazi-Lab/dendrify.git --quiet\n",
        "    os.chdir('dendrify/paper_figures')\n",
        "\n",
        "!pip install brian2 --quiet\n",
        "!pip install dendrify --quiet\n",
        "!git lfs pull --include=other/fig7-data.zip"
      ]
    },
    {
      "cell_type": "code",
      "source": [
        "#@title Imports and settings\n",
        "import brian2 as b\n",
        "from brian2.units import (ms, um, pA, nS, uS, ohm, cm, mV, uF, mvolt,\n",
        "                          Hz, msiemens) # Generally a better practise than * imports\n",
        "from dendrify import Soma, Dendrite, NeuronModel\n",
        "from zipfile import ZipFile\n",
        "import pickle as p\n",
        "import seaborn as sns\n",
        "import matplotlib.patches as mpatches\n",
        "import time\n",
        "\n",
        "\n",
        "b.prefs.codegen.target = 'numpy' # Improves performance significantly here\n",
        "\n",
        "# @title Figure settings\n",
        "graphite = \"#4B4E53\"\n",
        "blue = '#005c94ff'\n",
        "green = '#338000ff'\n",
        "orange = '#ff6600ff'\n",
        "notred = '#aa0044ff'\n",
        "dsblue = '#0BA8E6'\n",
        "light_gray = \"#b5b5b5\"\n",
        "params = {\n",
        "          \"legend.fontsize\": 10,\n",
        "          \"legend.handlelength\": 1.5,\n",
        "          \"legend.edgecolor\": 'inherit',\n",
        "          \"legend.columnspacing\": 0.8,\n",
        "          \"legend.handletextpad\": 0.5,\n",
        "          \"axes.labelsize\": 10,\n",
        "          \"axes.titlesize\": 11, \n",
        "          \"axes.spines.right\": False,\n",
        "          \"axes.spines.top\": False,\n",
        "          \"xtick.labelsize\": 10,\n",
        "          \"ytick.labelsize\": 10,\n",
        "          'mathtext.default': 'regular',\n",
        "          'lines.markersize': 3,\n",
        "          'lines.linewidth': 1.25,\n",
        "          'grid.color': \"#d3d3d3\",\n",
        "          'grid.linestyle': \":\",\n",
        "          'text.antialiased': True,\n",
        "          'lines.antialiased': True,\n",
        "          'figure.dpi': 150,\n",
        "          'axes.prop_cycle': b.cycler(color=[blue, green, orange, notred])\n",
        "          }\n",
        "\n",
        "b.rcParams.update(params)"
      ],
      "metadata": {
        "id": "F9EDKQlO7MWK",
        "cellView": "form"
      },
      "execution_count": 2,
      "outputs": []
    },
    {
      "cell_type": "markdown",
      "source": [
        "## Create model\n",
        ">*Biological CA1 PCs are more likely to be activated when input from the EC on their distal tuft is paired with coincident CA3 input on more proximal dendritic branches. Due to strong dendritic attenuation, distal synaptic input generally has a negligible effect on the soma. However, combining EC and (moderate) CA3 input results in more reliable dSpike initiation and propagation, facilitating axonal action-potential output [(Jarsky et al)](https://www.nature.com/articles/nn1599).*\n",
        ">\n",
        ">*To test if our reduced model captures the described phenomenon, we will try to replicate the experiments of Jarksy et al, using a pool of 10000 neurons. Each neuron represents a repetition of the same experiment with independent Poisson-distributed inputs of the same average frequency. (For more information see: __Example 4: Pathway interaction in CA1 model neurons__ in the manuscript.*\n",
        ">\n",
        "><br>\n",
        ">\n",
        "><p align=\"center\">\n",
        "    <img src=\"https://github.com/Poirazi-Lab/dendrify/blob/main/paper_figures/graphics/ca1_coincidence.png?raw=true\" alt=\"model\" width=\"35%\">\n",
        "></p>\n",
        ">\n",
        "><br>\n",
        ">\n",
        "> *NOTE: The following code was initially written in a way that allows running multiple simulations in parallel using a separate submission script.\n",
        "Here, we will run a single simulation for each experiment (dSpikes ON/OFF)\n",
        "using the parameters shown bellow. At the end of the notebook we also provide\n",
        "the submission script for anyone interested to check it.*"
      ],
      "metadata": {
        "id": "rRnMB0X-yAjT"
      }
    },
    {
      "cell_type": "code",
      "source": [
        "SEED = 2021\n",
        "INPUT_EC = True\n",
        "INPUT_CA3 = True\n",
        "DSPIKES = True\n",
        "FREQ_EC = 82*Hz\n",
        "FREQ_CA3 = 120*Hz\n",
        "N_PYR = 10000\n",
        "T_SIM = 500*ms\n",
        "\n",
        "# custom conductance-based adaptive I&F equations and parameters\n",
        "eqsCAdIF = (\n",
        "    \"dV{0}/dt =  (gL{0}*(EL{0}-V{0}) + Ia{0} + I{0}) / C{0} :volt \\n\"\n",
        "    \"Ia{0} = gA * (EA-V{0}) :amp \\n\"\n",
        "    \"dgA/dt = (gAmax * (abs(V{0}-VA)) / mV - gA) / tauA :siemens \\n\"\n",
        "    \"I{0} = I_ext{0}  :amp \\n\"\n",
        "    \"I_ext{0}  :amp\")\n",
        "\n",
        "paramsCAdIF = {\n",
        "    \"EA\": -65 * mV,  # reversal potential of Ia\n",
        "    \"VA\": -65 * mV,  # subthreshold adaptation activation voltage\n",
        "    \"tauA\": 45 * ms,  # time constant of adaptation\n",
        "    \"gAmax\": 0.15 * nS,  # maximal subthreshold adaptation conductance\n",
        "    \"delta_gA\": 21*nS,  # spike-triggered adaptation\n",
        "    \"Vth\": -47.5 * mV,  # AP threshold -47.5\n",
        "    \"Vr1\": 37.5 * mV}  # 1st voltage seset after AP\n",
        "\n",
        "# set basic parameters using values from experimental data\n",
        "paramsExp = {\n",
        "    'alpha': 0.087,\n",
        "    'beta':  3.57,\n",
        "    'gamma': 10,\n",
        "    'Mg': 1,\n",
        "    'E_NMDA': 0.35*mV,\n",
        "    \"E_Na\": 50 * mV,\n",
        "    \"E_K\": -90 * mV}\n",
        "\n",
        "gNa = 10*msiemens*cm**-2\n",
        "gKn = gNa/2.5\n",
        "Vdspike = -42.5*mV\n",
        "\n",
        "# create compartments\n",
        "soma = Soma('soma', model=eqsCAdIF, length=30*um, diameter=20*um)\n",
        "proximal = Dendrite('prox', length=100*um, diameter=2*um)\n",
        "oblique_1 = Dendrite('ob1', length=100*um, diameter=1*um)\n",
        "oblique_2 = Dendrite('ob2', length=100*um, diameter=1*um )\n",
        "medial = Dendrite('med', length=150*um, diameter=1.25*um)\n",
        "distal_1 = Dendrite('dist1', length=150*um, diameter=0.8*um )\n",
        "distal_2 = Dendrite('dist2', length=150*um, diameter=0.8*um)\n",
        "basal_1 = Dendrite('bas1', length=150*um, diameter=0.8*um)\n",
        "basal_2 = Dendrite('bas2', length=150*um, diameter=0.8*um)\n",
        "\n",
        "# dendritic spikes properties\n",
        "if DSPIKES:\n",
        "    proximal.dspikes('Na', threshold=Vdspike,\n",
        "                     g_rise=gNa*proximal.area,\n",
        "                     g_fall=gKn*proximal.area)\n",
        "\n",
        "    oblique_1.dspikes('Na', threshold=Vdspike,\n",
        "                      g_rise=gNa*oblique_1.area,\n",
        "                      g_fall=gKn*oblique_1.area)\n",
        "\n",
        "    oblique_2.dspikes('Na', threshold=Vdspike,\n",
        "                      g_rise=gNa*oblique_1.area,\n",
        "                      g_fall=gKn*oblique_1.area)\n",
        "\n",
        "    medial.dspikes('Na', threshold=Vdspike,\n",
        "                   g_rise=gNa*medial.area,\n",
        "                   g_fall=gKn*medial.area)\n",
        "\n",
        "    distal_1.dspikes('Na', threshold=Vdspike,\n",
        "                     g_rise=gNa*distal_1.area,\n",
        "                     g_fall=gKn*distal_1.area)\n",
        "\n",
        "    distal_2.dspikes('Na', threshold=Vdspike,\n",
        "                     g_rise=gNa*distal_1.area,\n",
        "                     g_fall=gKn*distal_1.area)\n",
        "\n",
        "    basal_1.dspikes('Na', threshold=Vdspike,\n",
        "                    g_rise=gNa*basal_1.area,\n",
        "                    g_fall=gKn*basal_1.area)\n",
        "\n",
        "    basal_2.dspikes('Na', threshold=Vdspike,\n",
        "                    g_rise=gNa*basal_2.area,\n",
        "                    g_fall=gKn*basal_2.area)\n",
        "\n",
        "# synaptic properties\n",
        "if INPUT_CA3:\n",
        "    oblique_1.synapse(\"AMPA\", pre='ca3', g=0.6*nS, t_decay=2.5*ms)\n",
        "    oblique_1.synapse(\"NMDA\", pre='ca3', g=0.4*nS, t_decay=50*ms)\n",
        "    oblique_2.synapse(\"AMPA\", pre='ca3', g=0.6*nS, t_decay=2.5*ms)\n",
        "    oblique_2.synapse(\"NMDA\", pre='ca3', g=0.4*nS, t_decay=50*ms)\n",
        "    medial.synapse(\"AMPA\", pre='ca3', g=0.81*nS, t_decay=2.5*ms)\n",
        "    medial.synapse(\"NMDA\", pre='ca3', g=0.4*nS, t_decay=50*ms)\n",
        "\n",
        "if INPUT_EC:\n",
        "    distal_1.synapse(\"AMPA\", pre='ec', g=0.81*nS, t_decay=2.5*ms)\n",
        "    distal_1.synapse(\"NMDA\", pre='ec', g=0.81*nS, t_decay=50*ms)\n",
        "    distal_2.synapse(\"AMPA\", pre='ec', g=0.81*nS, t_decay=2.5*ms)\n",
        "    distal_2.synapse(\"NMDA\", pre='ec', g=0.81*nS, t_decay=50*ms)\n",
        "\n",
        "\n",
        "# merge all compartments into a single model\n",
        "edges = [(soma, basal_1, 3.8*nS), (soma, basal_2, 3.8*nS),\n",
        "         (soma, proximal, 22*nS), (proximal, oblique_1),\n",
        "         (proximal, oblique_2), (proximal, medial), \n",
        "         (medial, distal_1), (medial, distal_2)]\n",
        "\n",
        "pyr_model = NeuronModel(edges, cm=1*uF/(cm**2), gl=40*uS/(cm**2),\n",
        "                        r_axial=120*ohm*cm, v_rest=-65*mV,\n",
        "                        scale_factor=2.9, spine_factor=1.5)\n",
        "\n",
        "# include model params\n",
        "pyr_model.add_params(paramsCAdIF)\n",
        "pyr_model.add_params(paramsExp)\n",
        "pyr_model.dspike_properties('Na', tau_rise=0.5*ms, tau_fall=1.2*ms,\n",
        "                            refractory=4.2*ms, offset_fall=0.6*ms)\n",
        "\n",
        "#-------------------------dendrify workflow ends here--------------------------#"
      ],
      "metadata": {
        "id": "erw3lFx2S1_W"
      },
      "execution_count": 3,
      "outputs": []
    },
    {
      "cell_type": "markdown",
      "source": [
        "## Create NeuronGroup"
      ],
      "metadata": {
        "id": "cU-MToQFouLM"
      }
    },
    {
      "cell_type": "code",
      "source": [
        "b.start_scope()    # allows running separate simulations in the same notebook\n",
        "pyr_group = b.NeuronGroup(N_PYR, threshold='V_soma > Vth', refractory=4*ms,\n",
        "                          reset='V_soma = Vr1; gA += delta_gA', method='euler',\n",
        "                          model=pyr_model.equations, events=pyr_model.events,\n",
        "                          namespace=pyr_model.parameters)\n",
        "    \n",
        "# link pyramidal model to the neurongroup\n",
        "pyr_model.link(pyr_group)\n",
        "\n",
        "# second reset trick\n",
        "second_reset = b.Synapses(pyr_group, pyr_group, on_pre='V_soma=-53 * mV',\n",
        "                          delay=0.8*ms)\n",
        "second_reset.connect(j='i')\n",
        "\n",
        "# set monitor for somatic spikes\n",
        "S = b.SpikeMonitor(pyr_group)"
      ],
      "metadata": {
        "id": "clmzjZZlo3MV"
      },
      "execution_count": 4,
      "outputs": []
    },
    {
      "cell_type": "markdown",
      "source": [
        "## Create Poisson inputs"
      ],
      "metadata": {
        "id": "pW8sSZw0o-MZ"
      }
    },
    {
      "cell_type": "code",
      "source": [
        "if INPUT_EC:\n",
        "    b.seed(SEED)\n",
        "\n",
        "    I_ec1 = b.PoissonGroup(N_PYR, FREQ_EC)\n",
        "    S_ec1 = b.Synapses(I_ec1, pyr_group,\n",
        "                       on_pre='s_AMPA_ec_dist1 += 1.0; s_NMDA_ec_dist1 += 1.0')\n",
        "    S_ec1.connect('i==j')\n",
        "\n",
        "    I_ec2 = b.PoissonGroup(N_PYR, FREQ_EC)\n",
        "    S_ec2 = b.Synapses(I_ec2, pyr_group,\n",
        "                       on_pre='s_AMPA_ec_dist2 += 1.0; s_NMDA_ec_dist2 += 1.0')\n",
        "    S_ec2.connect('i==j')\n",
        "\n",
        "if INPUT_CA3:\n",
        "    b.seed(SEED)\n",
        "\n",
        "    I_ca3_1 = b.PoissonGroup(N_PYR, FREQ_CA3)\n",
        "    S_ca3_1 = b.Synapses(I_ca3_1, pyr_group,\n",
        "                         on_pre='s_AMPA_ca3_ob1 += 1.0; s_NMDA_ca3_ob1 += 1.0')\n",
        "    S_ca3_1.connect('i==j')\n",
        "\n",
        "    I_ca3_2 = b.PoissonGroup(N_PYR, FREQ_CA3)\n",
        "    S_ca3_2 = b.Synapses(I_ca3_2, pyr_group,\n",
        "                         on_pre='s_AMPA_ca3_ob2 += 1.0; s_NMDA_ca3_ob2 += 1.0')\n",
        "    S_ca3_2.connect('i==j')\n",
        "\n",
        "    I_ca3_3 = b.PoissonGroup(N_PYR, FREQ_CA3)\n",
        "    S_ca3_3 = b.Synapses(I_ca3_3, pyr_group,\n",
        "                         on_pre='s_AMPA_ca3_med += 1.0; s_NMDA_ca3_med += 1.0')\n",
        "    S_ca3_3.connect('i==j')"
      ],
      "metadata": {
        "id": "K0TIykDyce-R"
      },
      "execution_count": 5,
      "outputs": []
    },
    {
      "cell_type": "markdown",
      "source": [
        "## Run simulation (dspikes ON)\n",
        "> *Expected time of completion: ~25 seconds but this is inconsistent in google colab :(*"
      ],
      "metadata": {
        "id": "7ozynuMEpWig"
      }
    },
    {
      "cell_type": "code",
      "source": [
        "t1 = time.time()\n",
        "print(f\"Simulation started.\")\n",
        "b.run(T_SIM)\n",
        "t2 = time.time()\n",
        "print(f\"Simulation ended. \\n(Time: {t2-t1:.2f} s)\")\n",
        "spikes_ON = S.count"
      ],
      "metadata": {
        "colab": {
          "base_uri": "https://localhost:8080/"
        },
        "id": "hNyLv28xpVov",
        "outputId": "cfd54e94-b5d1-4619-a2fb-d19177247119"
      },
      "execution_count": 6,
      "outputs": [
        {
          "output_type": "stream",
          "name": "stdout",
          "text": [
            "Simulation started.\n",
            "Simulation ended. \n",
            "(Time: 31.59 s)\n"
          ]
        }
      ]
    },
    {
      "cell_type": "markdown",
      "source": [
        "## Repeat previous process and run simulation (dSpikes OFF)"
      ],
      "metadata": {
        "id": "6FqHJk4tv4xd"
      }
    },
    {
      "cell_type": "code",
      "source": [
        "# @title  Create model\n",
        "SEED = 2021\n",
        "INPUT_EC = True\n",
        "INPUT_CA3 = True\n",
        "DSPIKES = False\n",
        "FREQ_EC = 82*Hz\n",
        "FREQ_CA3 = 120*Hz\n",
        "N_PYR = 10000\n",
        "T_SIM = 500*ms\n",
        "\n",
        "# custom conductance-based adaptive I&F equations and parameters\n",
        "eqsCAdIF = (\n",
        "    \"dV{0}/dt =  (gL{0}*(EL{0}-V{0}) + Ia{0} + I{0}) / C{0} :volt \\n\"\n",
        "    \"Ia{0} = gA * (EA-V{0}) :amp \\n\"\n",
        "    \"dgA/dt = (gAmax * (abs(V{0}-VA)) / mV - gA) / tauA :siemens \\n\"\n",
        "    \"I{0} = I_ext{0}  :amp \\n\"\n",
        "    \"I_ext{0}  :amp\")\n",
        "\n",
        "paramsCAdIF = {\n",
        "    \"EA\": -65 * mV,  # reversal potential of Ia\n",
        "    \"VA\": -65 * mV,  # subthreshold adaptation activation voltage\n",
        "    \"tauA\": 45 * ms,  # time constant of adaptation\n",
        "    \"gAmax\": 0.15 * nS,  # maximal subthreshold adaptation conductance\n",
        "    \"delta_gA\": 21*nS,  # spike-triggered adaptation\n",
        "    \"Vth\": -47.5 * mV,  # AP threshold -47.5\n",
        "    \"Vr1\": 37.5 * mV}  # 1st voltage seset after AP\n",
        "\n",
        "# set basic parameters using values from experimental data\n",
        "paramsExp = {\n",
        "    'alpha': 0.087,\n",
        "    'beta':  3.57,\n",
        "    'gamma': 10,\n",
        "    'Mg': 1,\n",
        "    'E_NMDA': 0.35*mV,\n",
        "    \"E_Na\": 50 * mV,\n",
        "    \"E_K\": -90 * mV}\n",
        "\n",
        "gNa = 10*msiemens*cm**-2\n",
        "gKn = gNa/2.5\n",
        "Vdspike = -42.5*mV\n",
        "\n",
        "# create compartments\n",
        "soma = Soma('soma', model=eqsCAdIF, length=30*um, diameter=20*um)\n",
        "proximal = Dendrite('prox', length=100*um, diameter=2*um)\n",
        "oblique_1 = Dendrite('ob1', length=100*um, diameter=1*um)\n",
        "oblique_2 = Dendrite('ob2', length=100*um, diameter=1*um )\n",
        "medial = Dendrite('med', length=150*um, diameter=1.25*um)\n",
        "distal_1 = Dendrite('dist1', length=150*um, diameter=0.8*um )\n",
        "distal_2 = Dendrite('dist2', length=150*um, diameter=0.8*um)\n",
        "basal_1 = Dendrite('bas1', length=150*um, diameter=0.8*um)\n",
        "basal_2 = Dendrite('bas2', length=150*um, diameter=0.8*um)\n",
        "\n",
        "# dendritic spikes properties\n",
        "if DSPIKES:\n",
        "    proximal.dspikes('Na', threshold=Vdspike,\n",
        "                  g_rise=gNa*proximal.area,\n",
        "                  g_fall=gKn*proximal.area)\n",
        "\n",
        "    oblique_1.dspikes('Na', threshold=Vdspike,\n",
        "                  g_rise=gNa*oblique_1.area,\n",
        "                  g_fall=gKn*oblique_1.area)\n",
        "\n",
        "    oblique_2.dspikes('Na', threshold=Vdspike,\n",
        "                  g_rise=gNa*oblique_1.area,\n",
        "                  g_fall=gKn*oblique_1.area)\n",
        "\n",
        "    medial.dspikes('Na', threshold=Vdspike,\n",
        "                g_rise=gNa*medial.area,\n",
        "                g_fall=gKn*medial.area)\n",
        "\n",
        "    distal_1.dspikes('Na', threshold=Vdspike,\n",
        "                g_rise=gNa*distal_1.area,\n",
        "                g_fall=gKn*distal_1.area)\n",
        "\n",
        "    distal_2.dspikes('Na', threshold=Vdspike,\n",
        "                g_rise=gNa*distal_1.area,\n",
        "                g_fall=gKn*distal_1.area)\n",
        "\n",
        "    basal_1.dspikes('Na', threshold=Vdspike,\n",
        "                g_rise=gNa*basal_1.area,\n",
        "                g_fall=gKn*basal_1.area)\n",
        "\n",
        "    basal_2.dspikes('Na', threshold=Vdspike,\n",
        "                g_rise=gNa*basal_2.area,\n",
        "                g_fall=gKn*basal_2.area)\n",
        "\n",
        "# synaptic properties\n",
        "if INPUT_CA3:\n",
        "    oblique_1.synapse(\"AMPA\", pre='ca3', g=0.6*nS, t_decay=2.5*ms)\n",
        "    oblique_1.synapse(\"NMDA\", pre='ca3', g=0.4*nS, t_decay=50*ms)\n",
        "    oblique_2.synapse(\"AMPA\", pre='ca3', g=0.6*nS, t_decay=2.5*ms)\n",
        "    oblique_2.synapse(\"NMDA\", pre='ca3', g=0.4*nS, t_decay=50*ms)\n",
        "    medial.synapse(\"AMPA\", pre='ca3', g=0.81*nS, t_decay=2.5*ms)\n",
        "    medial.synapse(\"NMDA\", pre='ca3', g=0.4*nS, t_decay=50*ms)\n",
        "\n",
        "if INPUT_EC:\n",
        "    distal_1.synapse(\"AMPA\", pre='ec', g=0.81*nS, t_decay=2.5*ms)\n",
        "    distal_1.synapse(\"NMDA\", pre='ec', g=0.81*nS, t_decay=50*ms)\n",
        "    distal_2.synapse(\"AMPA\", pre='ec', g=0.81*nS, t_decay=2.5*ms)\n",
        "    distal_2.synapse(\"NMDA\", pre='ec', g=0.81*nS, t_decay=50*ms)\n",
        "\n",
        "\n",
        "# merge all compartments into a single model\n",
        "edges = [(soma, basal_1, 3.8*nS), (soma, basal_2, 3.8*nS),\n",
        "         (soma, proximal, 22*nS), (proximal, oblique_1),\n",
        "         (proximal, oblique_2), (proximal, medial), \n",
        "         (medial, distal_1), (medial, distal_2)]\n",
        "\n",
        "pyr_model = NeuronModel(edges, cm=1*uF/(cm**2), gl=40*uS/(cm**2),\n",
        "                        r_axial=120*ohm*cm, v_rest=-65*mV,\n",
        "                        scale_factor=2.9, spine_factor=1.5)\n",
        "\n",
        "# include model params\n",
        "pyr_model.add_params(paramsCAdIF)\n",
        "pyr_model.add_params(paramsExp)\n",
        "pyr_model.dspike_properties('Na', tau_rise=0.5*ms, tau_fall=1.2*ms,\n",
        "                            refractory=4.2*ms, offset_fall=0.6*ms)\n",
        "\n",
        "#-------------------------dendrify workflow ends here--------------------------#"
      ],
      "metadata": {
        "cellView": "form",
        "id": "61k7PH25vHe1"
      },
      "execution_count": 7,
      "outputs": []
    },
    {
      "cell_type": "code",
      "source": [
        "# @title Create NeuronGroup\n",
        "b.start_scope()    # allows running separate simulations in the same notebook\n",
        "pyr_group = b.NeuronGroup(N_PYR, threshold='V_soma > Vth', refractory=4*ms,\n",
        "                          reset='V_soma = Vr1; gA += delta_gA', method='euler',\n",
        "                          model=pyr_model.equations, events=pyr_model.events,\n",
        "                          namespace=pyr_model.parameters)\n",
        "    \n",
        "# link pyramidal model to the neurongroup\n",
        "pyr_model.link(pyr_group)\n",
        "\n",
        "# second reset trick\n",
        "second_reset = b.Synapses(pyr_group, pyr_group, on_pre='V_soma=-53 * mV',\n",
        "                          delay=0.8*ms)\n",
        "second_reset.connect(j='i')\n",
        "\n",
        "# set monitor for somatic spikes\n",
        "S = b.SpikeMonitor(pyr_group)"
      ],
      "metadata": {
        "cellView": "form",
        "id": "i2WYhjQMvHcJ"
      },
      "execution_count": 8,
      "outputs": []
    },
    {
      "cell_type": "code",
      "source": [
        "# @title Create Poisson Inputs\n",
        "if INPUT_EC:\n",
        "    b.seed(SEED)\n",
        "\n",
        "    I_ec1 = b.PoissonGroup(N_PYR, FREQ_EC)\n",
        "    S_ec1 = b.Synapses(I_ec1, pyr_group,\n",
        "                       on_pre='s_AMPA_ec_dist1 += 1.0; s_NMDA_ec_dist1 += 1.0')\n",
        "    S_ec1.connect('i==j')\n",
        "\n",
        "    I_ec2 = b.PoissonGroup(N_PYR, FREQ_EC)\n",
        "    S_ec2 = b.Synapses(I_ec2, pyr_group,\n",
        "                       on_pre='s_AMPA_ec_dist2 += 1.0; s_NMDA_ec_dist2 += 1.0')\n",
        "    S_ec2.connect('i==j')\n",
        "\n",
        "if INPUT_CA3:\n",
        "    b.seed(SEED)\n",
        "\n",
        "    I_ca3_1 = b.PoissonGroup(N_PYR, FREQ_CA3)\n",
        "    S_ca3_1 = b.Synapses(I_ca3_1, pyr_group,\n",
        "                         on_pre='s_AMPA_ca3_ob1 += 1.0; s_NMDA_ca3_ob1 += 1.0')\n",
        "    S_ca3_1.connect('i==j')\n",
        "\n",
        "    I_ca3_2 = b.PoissonGroup(N_PYR, FREQ_CA3)\n",
        "    S_ca3_2 = b.Synapses(I_ca3_2, pyr_group,\n",
        "                         on_pre='s_AMPA_ca3_ob2 += 1.0; s_NMDA_ca3_ob2 += 1.0')\n",
        "    S_ca3_2.connect('i==j')\n",
        "\n",
        "    I_ca3_3 = b.PoissonGroup(N_PYR, FREQ_CA3)\n",
        "    S_ca3_3 = b.Synapses(I_ca3_3, pyr_group,\n",
        "                         on_pre='s_AMPA_ca3_med += 1.0; s_NMDA_ca3_med += 1.0')\n",
        "    S_ca3_3.connect('i==j')"
      ],
      "metadata": {
        "cellView": "form",
        "id": "aCoQO6O2vHX7"
      },
      "execution_count": 9,
      "outputs": []
    },
    {
      "cell_type": "code",
      "source": [
        "# @title Run simulation (dspikes OFF)\n",
        "t1 = time.time()\n",
        "print(f\"Simulation started.\")\n",
        "b.run(T_SIM)\n",
        "t2 = time.time()\n",
        "print(f\"Simulation ended. \\n(Time: {t2-t1:.2f} s)\")\n",
        "spikes_OFF = S.count"
      ],
      "metadata": {
        "colab": {
          "base_uri": "https://localhost:8080/"
        },
        "cellView": "form",
        "id": "i4ng0pcxvHMn",
        "outputId": "2faec3dd-a509-490d-b967-596a419f8402"
      },
      "execution_count": 10,
      "outputs": [
        {
          "output_type": "stream",
          "name": "stdout",
          "text": [
            "Simulation started.\n",
            "Simulation ended. \n",
            "(Time: 19.62 s)\n"
          ]
        }
      ]
    },
    {
      "cell_type": "markdown",
      "source": [
        "## Panels b-c | Somatic effect of dSpikes"
      ],
      "metadata": {
        "id": "nBX2hM3axGgS"
      }
    },
    {
      "cell_type": "code",
      "source": [
        "# @title Plot somatic APs probability distribution (dSpikes ON/OFF)\n",
        "count_soma_ON = b.unique(spikes_ON, return_counts=True)\n",
        "bins_soma_ON = max(count_soma_ON[0])\n",
        "\n",
        "count_soma_OFF = b.unique(spikes_OFF, return_counts=True)\n",
        "bins_soma_OFF = max(count_soma_OFF[0])\n",
        "width = 0.3\n",
        "\n",
        "fig, ax = b.subplots(figsize=[4,3])\n",
        "ax.set_title(\"Somatic spikes probability\")\n",
        "\n",
        "ax.bar(count_soma_ON[0], count_soma_ON[1]/N_PYR*100, linewidth=0,\n",
        "       width=width, color='#073763', label='ON', zorder=3, alpha=.7,\n",
        "        antialiased=True)\n",
        "ax.bar((count_soma_OFF[0])+width, count_soma_OFF[1]/N_PYR*100, linewidth=0,\n",
        "       width=width, color='#990000', label='OFF', zorder=3, alpha=.7,\n",
        "       antialiased=True)\n",
        "ax.set_xlabel(\"# spikes\")\n",
        "ax.set_ylabel(\"Probability\")\n",
        "\n",
        "# ax.set_ylim(0, 1)\n",
        "ax.set_xlabel(\"# of somatic APs\")\n",
        "ax.set_ylabel(\"Neurons (%)\")\n",
        "ax.legend(frameon=True, loc='center right')\n",
        "\n",
        "ax.set_xticks(count_soma_ON[0] + width/2)\n",
        "ax.set_xticklabels([str(i) for i in count_soma_ON[0]])\n",
        "ax.set_yticks(b.arange(0, 120, 20))\n",
        "ax.set_xlim(right=3.5)\n",
        "ax.yaxis.grid(zorder=0)\n",
        "fig.tight_layout()"
      ],
      "metadata": {
        "colab": {
          "base_uri": "https://localhost:8080/",
          "height": 452
        },
        "cellView": "form",
        "id": "7PNSjk_dqBCS",
        "outputId": "78f70c1e-d04e-4711-bcfc-a599bae1ad29"
      },
      "execution_count": 11,
      "outputs": [
        {
          "output_type": "display_data",
          "data": {
            "text/plain": [
              "<Figure size 600x450 with 1 Axes>"
            ],
            "image/png": "[encoded data removed]"
          },
          "metadata": {
            "needs_background": "light"
          }
        }
      ]
    },
    {
      "cell_type": "code",
      "source": [
        "# @title Plot active vs silent (dSpikes ON/OFF)\n",
        "control_silent = count_soma_ON[1][0]\n",
        "control_active = sum(count_soma_ON[1][1:])\n",
        "ttx_silent = count_soma_OFF[1][0]\n",
        "ttx_active = sum(count_soma_OFF[1][1:])\n",
        "x = [0, 1]\n",
        "y1 = [control_silent/100, ttx_silent/100]\n",
        "y2 = [control_active/100, ttx_active/100]\n",
        "\n",
        "fig, ax = b.subplots(figsize=[3,3])\n",
        "\n",
        "ax.bar(x, y2, bottom=y1, color='orange',\n",
        "        label='active', width=0.4, zorder=3, alpha=.7, antialiased=True,\n",
        "        rasterized=True)\n",
        "ax.bar(x, y1, color='black', label='silent', width=0.4, zorder=3, alpha=.7,\n",
        "        antialiased=True, rasterized=True)\n",
        "\n",
        "ax.set_ylabel(\"Neurons (%)\")\n",
        "ax.set_xlabel(\"Experiment\")\n",
        "ax.legend(ncol=1, loc=\"center right\", framealpha=.9)\n",
        "ax.set_yticks(b.arange(0, 120, 20))\n",
        "ax.set_xticks([0, 1])\n",
        "ax.set_xticklabels(['ON', 'OFF'])\n",
        "ax.set_ylim(top=100)\n",
        "ax.set_xlim(left=-0.75, right=1.75)\n",
        "ax.yaxis.grid(zorder=0)\n",
        "fig.tight_layout()"
      ],
      "metadata": {
        "colab": {
          "base_uri": "https://localhost:8080/",
          "height": 452
        },
        "cellView": "form",
        "id": "S_cFdT1OntDg",
        "outputId": "2df55203-7f5c-460f-d59e-0d3fb385dee5"
      },
      "execution_count": 12,
      "outputs": [
        {
          "output_type": "display_data",
          "data": {
            "text/plain": [
              "<Figure size 450x450 with 1 Axes>"
            ],
            "image/png": "[encoded data removed]"
          },
          "metadata": {
            "needs_background": "light"
          }
        }
      ]
    },
    {
      "cell_type": "markdown",
      "source": [
        "## Panels d-f | Parametric exploration"
      ],
      "metadata": {
        "id": "rbxGibvyyTDl"
      }
    },
    {
      "cell_type": "code",
      "source": [
        "# @title Preprocess data from 242 simulations\n",
        "# unzip data\n",
        "with ZipFile(\"other/fig7-data.zip\", mode=\"r\") as archive:\n",
        "    archive.extractall(\"other/pickles\")\n",
        "\n",
        "# load and curate data\n",
        "path = \"other/pickles/fig7-data\"\n",
        "ec_freqs = b.arange(0.5, 1.6, 0.1)*82\n",
        "ca3_freqs = b.arange(0.5, 1.6, 0.1)*120\n",
        "N_pyr = 10000\n",
        "\n",
        "M1 = b.zeros((11, 11))\n",
        "M2 = b.zeros((11, 11))\n",
        "for ix, x in enumerate(ec_freqs):\n",
        "    for iy, y in enumerate(ca3_freqs):\n",
        "        file1 = f\"INPUT_EC=True INPUT_CA3=True DSPIKES=True FREQ_EC={x:.1f}Hz FREQ_CA3={y:.1f}Hz N_PYR=10000 T_SIM=500ms.pkl\"\n",
        "        file2 = f\"INPUT_EC=True INPUT_CA3=True DSPIKES=False FREQ_EC={x:.1f}Hz FREQ_CA3={y:.1f}Hz N_PYR=10000 T_SIM=500ms.pkl\"\n",
        "        with open(f\"{path}/{file1}\", 'rb') as f1, open(f\"{path}/{file2}\", 'rb') as f2:\n",
        "            data1, data2 = p.load(f1), p.load(f2)\n",
        "\n",
        "        spiketimes1 = data1['spiketimes']\n",
        "        len_spikes1 = b.array([len(spiketimes1[neuron]) for neuron in spiketimes1])\n",
        "        freqs1 = len_spikes1/(500*ms)\n",
        "        mean_freq1 = b.mean(freqs1)\n",
        "        M1[ix][iy] = mean_freq1\n",
        "\n",
        "        spiketimes2 = data2['spiketimes']\n",
        "        len_spikes2 = b.array([len(spiketimes2[neuron]) for neuron in spiketimes2])\n",
        "        freqs2 = len_spikes2/(500*ms)\n",
        "        mean_freq2 = b.mean(freqs2)\n",
        "        M2[ix][iy] = mean_freq2"
      ],
      "metadata": {
        "id": "OKFzOK1uegqi"
      },
      "execution_count": 13,
      "outputs": []
    },
    {
      "cell_type": "code",
      "source": [
        "# @title Plot mean network firing rates\n",
        "ticks = [0, 5, 10] \n",
        "tick_labels = [\"0.5\", \"1.0\", \"1.5\"]\n",
        "\n",
        "fig, axes = b.subplots(ncols=3,figsize=(7.2,3),\n",
        "                       gridspec_kw={\"width_ratios\":[1,1, 0.05]})\n",
        "ax0, ax1, ax2 = axes\n",
        "h1 = ax0.imshow(b.flipud(M1), vmin=0, vmax=11, cmap='jet')\n",
        "h2 = ax1.imshow(b.flipud(M2), vmin=0, vmax=11, cmap='jet')\n",
        "cb = fig.colorbar(h1, cax=ax2, ticks=[0,11], label='Mean Firing Rate (Hz)')\n",
        "\n",
        "for ax in ax0, ax1:\n",
        "    ax.set_xticks(ticks)\n",
        "    ax.set_yticks(ticks)\n",
        "    ax.set_xticklabels(tick_labels)\n",
        "    ax.set_yticklabels(tick_labels)\n",
        "    ax.spines['bottom'].set_visible(False)\n",
        "    ax.spines['left'].set_visible(False)\n",
        "\n",
        "\n",
        "ax0.set_title(\"dSpikes ON\")\n",
        "ax0.set_ylabel(\"EC input (a.u.)\")\n",
        "ax0.set_xlabel(\"CA3 input (a.u.)\")\n",
        "ax1.set_title(\"dSpikes OFF\")\n",
        "ax1.set_xlabel(\"CA3 input (a.u.)\")\n",
        "cb.outline.set_visible(False)\n",
        "\n",
        "fig.tight_layout()"
      ],
      "metadata": {
        "colab": {
          "base_uri": "https://localhost:8080/",
          "height": 452
        },
        "cellView": "form",
        "id": "U5r-s4RBjSU5",
        "outputId": "41ec7329-0c80-4736-fbc7-c0f88175bc00"
      },
      "execution_count": 14,
      "outputs": [
        {
          "output_type": "display_data",
          "data": {
            "text/plain": [
              "<Figure size 1080x450 with 3 Axes>"
            ],
            "image/png": "[encoded data removed]"
          },
          "metadata": {
            "needs_background": "light"
          }
        }
      ]
    },
    {
      "cell_type": "code",
      "source": [
        "# @title Plot dSpikes OFF effect\n",
        "M1clean = b.where(M1 > 0.1, M1, -1)\n",
        "M2clean = b.where(M1 > 0.1, M2, -1)\n",
        "Mdclean = (M1clean-M2clean) / M1clean\n",
        "\n",
        "ticks = [0, 5, 10] \n",
        "tick_labels = [\"0.5\", \"1.0\", \"1.5\"]\n",
        "\n",
        "fig, axes = b.subplots(ncols=2,figsize=(4,3),gridspec_kw={\n",
        "                       \"width_ratios\":[1,0.05]})\n",
        "ax0, ax1, = axes\n",
        "\n",
        "h = ax0.imshow(b.flipud(Mdclean)*100, vmin=0, vmax=100, cmap='Greys')\n",
        "cb = fig.colorbar(h, cax=ax1, ticks=[0, 50, 100], label=\"Drop in MFR (%)\")\n",
        "\n",
        "ax0.set_xticks(ticks)\n",
        "ax0.set_yticks(ticks)\n",
        "ax0.set_xticklabels(tick_labels)\n",
        "ax0.set_yticklabels(tick_labels)\n",
        "ax0.spines['bottom'].set_visible(False)\n",
        "ax0.spines['left'].set_visible(False)\n",
        "ax0.set_ylabel(\"EC input (a.u.)\")\n",
        "ax0.set_xlabel(\"CA3 input (a.u.)\")\n",
        "ax0.set_title(\"dSpikes OFF effect\")\n",
        "\n",
        "cb.outline.set_visible(False)\n",
        "fig.tight_layout()"
      ],
      "metadata": {
        "colab": {
          "base_uri": "https://localhost:8080/",
          "height": 452
        },
        "cellView": "form",
        "id": "twKQEy5f79xj",
        "outputId": "b742c9d6-2815-42ed-ff9c-dff695f6ae0c"
      },
      "execution_count": 15,
      "outputs": [
        {
          "output_type": "display_data",
          "data": {
            "text/plain": [
              "<Figure size 600x450 with 2 Axes>"
            ],
            "image/png": "[encoded data removed]"
          },
          "metadata": {
            "needs_background": "light"
          }
        }
      ]
    },
    {
      "cell_type": "code",
      "source": [
        "# @title Plot distribution \n",
        "\n",
        "\n",
        "fig, ax = b.subplots(figsize=(4,3))\n",
        "ax.hist(Mdclean.flatten()*100, bins=10, color=\"#4B4E53\",\n",
        "         zorder=3, alpha=.75, antialiased=True, rasterized=True)\n",
        "\n",
        "ytickpos = b.arange(0, 50, 10)\n",
        "ax.set_yticks(b.array(ytickpos*1.21))\n",
        "ax.set_yticklabels(ytickpos)\n",
        "ax.set_xlabel(\"Drop in MFR (%)\")\n",
        "ax.set_ylabel(\"Cases (%)\")\n",
        "ax.set_xticks(range(0, 120, 20))\n",
        "ax.yaxis.grid(zorder=0)\n",
        "ax.set_title(\"dSpikes OFF effect\")\n",
        "\n",
        "\n",
        "\n",
        "fig.tight_layout()\n"
      ],
      "metadata": {
        "colab": {
          "base_uri": "https://localhost:8080/",
          "height": 452
        },
        "cellView": "form",
        "id": "Ng9ziXxL4-vR",
        "outputId": "ca592cab-977c-4b45-a8bd-7c7e8fafbe0c"
      },
      "execution_count": 16,
      "outputs": [
        {
          "output_type": "display_data",
          "data": {
            "text/plain": [
              "<Figure size 600x450 with 1 Axes>"
            ],
            "image/png": "[encoded data removed]"
          },
          "metadata": {
            "needs_background": "light"
          }
        }
      ]
    },
    {
      "cell_type": "code",
      "source": [
        "# @title Violin plots\n",
        "import warnings\n",
        "warnings.filterwarnings(\"ignore\")\n",
        "\n",
        "path = \"other/pickles/fig7-data\"\n",
        "ec_freqs = b.arange(1, 1.5, 0.1)*82\n",
        "ca3_freqs = b.arange(1, 1.5, 0.1)*120\n",
        "\n",
        "data_ON = []\n",
        "data_OFF = []\n",
        "for x, y in zip(ec_freqs, ca3_freqs):\n",
        "    file1 = f\"INPUT_EC=True INPUT_CA3=True DSPIKES=True FREQ_EC={x:.1f}Hz FREQ_CA3={y:.1f}Hz N_PYR=10000 T_SIM=500ms.pkl\"\n",
        "    file2 = f\"INPUT_EC=True INPUT_CA3=True DSPIKES=False FREQ_EC={x:.1f}Hz FREQ_CA3={y:.1f}Hz N_PYR=10000 T_SIM=500ms.pkl\"\n",
        "    with open(f\"{path}/{file1}\", 'rb') as f1, open(f\"{path}/{file2}\", 'rb') as f2:\n",
        "        data1, data2 = p.load(f1), p.load(f2)\n",
        "\n",
        "    spiketimes1 = data1['spiketimes']\n",
        "    oneplus1 = [spiketimes1[neuron]\n",
        "                for neuron in spiketimes1 if\n",
        "                len(spiketimes1[neuron]) >= 2]\n",
        "    isi1 = [(b.diff(spikes)/ms) for spikes in oneplus1]\n",
        "    isi1_flat = b.hstack(isi1)\n",
        "    data_ON.append(isi1_flat)\n",
        "\n",
        "    spiketimes2 = data2['spiketimes']\n",
        "    oneplus2 = [spiketimes2[neuron]\n",
        "                for neuron in spiketimes2 if\n",
        "                len(spiketimes2[neuron]) >= 2]\n",
        "    isi2 = [(b.diff(spikes)/ms) for spikes in oneplus2]\n",
        "    isi2_flat = b.hstack(isi2)\n",
        "    data_OFF.append(isi2_flat)\n",
        "\n",
        "fig, ax = b.subplots(figsize=[4,2.8])\n",
        "violin1 = ax.violinplot(data_ON, positions=[0, 3, 6, 9, 12],\n",
        "                        showextrema=False, widths=.65)\n",
        "violin2 = ax.violinplot(data_OFF, positions=[1, 4, 7, 10, 13],\n",
        "                        showextrema=False, widths=.65)\n",
        "\n",
        "for vp1, vp2 in zip(violin1['bodies'],  violin2['bodies']):\n",
        "    vp1.set_facecolor('#073763')\n",
        "    vp1.set_zorder(2)\n",
        "    vp1.set_alpha(0.7)\n",
        "    vp2.set_facecolor('#990000')\n",
        "    vp2.set_zorder(2)\n",
        "    vp2.set_alpha(0.7)\n",
        "\n",
        "medians = []\n",
        "quartile1 = []\n",
        "quartile3 = []\n",
        "\n",
        "for i in data_OFF:\n",
        "    q1, median, q3 = b.percentile(i, [25, 50, 75], axis=0)\n",
        "    medians.append(median)\n",
        "    quartile1.append(q1)\n",
        "    quartile3.append(q3)\n",
        "\n",
        "inds = [1, 4, 7, 10, 13]\n",
        "ax.scatter(inds, medians, marker='o', color='black', s=10, zorder=3)\n",
        "ax.vlines(inds, quartile1, quartile3, color='black', linestyle='-', lw=1)\n",
        "\n",
        "medians = []\n",
        "quartile1 = []\n",
        "quartile3 = []\n",
        "\n",
        "for i in data_ON:\n",
        "    q1, median, q3 = b.percentile(i, [25, 50, 75], axis=0)\n",
        "    medians.append(median)\n",
        "    quartile1.append(q1)\n",
        "    quartile3.append(q3)\n",
        "\n",
        "inds = [0, 3, 6, 9, 12]\n",
        "ax.scatter(inds, medians, marker='o', color='black', s=10, zorder=3)\n",
        "ax.vlines(inds, quartile1, quartile3, color='black', linestyle='-', lw=1)\n",
        "\n",
        "for pos, stars in zip([0.5, 3.5, 6.5, 9.5, 12.5],\n",
        "                     ['*', \"****\", \"****\", \"****\", \"****\"]):\n",
        "    ax.text(pos, 400, stars, ha='center')\n",
        "\n",
        "handles = [mpatches.Patch(edgecolor=None, facecolor='#073763', alpha=.7),\n",
        "           mpatches.Patch(edgecolor=None, facecolor='#990000', alpha=.7)]\n",
        "labels = ['ON', 'OFF']\n",
        "ax.legend(handles, labels, loc='upper right', ncol=1)\n",
        "ax.yaxis.grid(zorder=0)\n",
        "ax.set_ylabel(\"ISI (ms)\")\n",
        "ax.set_xlabel(\"Input intensity (a.u.)\")\n",
        "ax.set_ylim(top=400, bottom=0)\n",
        "ax.set_xticks(b.arange(0, 15, 3)+.5)\n",
        "ax.set_xticklabels([1.1, 1.2, 1.3, 1.4, 1.5])\n",
        "fig.tight_layout()"
      ],
      "metadata": {
        "colab": {
          "base_uri": "https://localhost:8080/",
          "height": 421
        },
        "id": "sqcf8P53JbQ_",
        "outputId": "72d957fe-b0ac-4238-b9ab-874ac1bf1126",
        "cellView": "form"
      },
      "execution_count": 17,
      "outputs": [
        {
          "output_type": "display_data",
          "data": {
            "text/plain": [
              "<Figure size 600x420 with 1 Axes>"
            ],
            "image/png": "[encoded data removed]"
          },
          "metadata": {
            "needs_background": "light"
          }
        }
      ]
    },
    {
      "cell_type": "code",
      "source": [
        "# @title Statistical tests for violin plots\n",
        "import scipy.stats as stats\n",
        "from statsmodels.sandbox.stats.multicomp import multipletests\n",
        "\n",
        "print(\"Perform independent t-tests: \\n\")\n",
        "pvals = []\n",
        "for on, off in zip(data_ON, data_OFF):\n",
        "    ttest = stats.ttest_ind(on, off)\n",
        "    _, p = ttest\n",
        "    pvals.append(p)\n",
        "    print(ttest)\n",
        "\n",
        "_, pvals_corrected, _, _ = multipletests(pvals, alpha=0.05)\n",
        "\n",
        "print(\"\\n\\nCorrected p values for multiple tests: \\n\")\n",
        "print(pvals_corrected)"
      ],
      "metadata": {
        "colab": {
          "base_uri": "https://localhost:8080/"
        },
        "cellView": "form",
        "id": "V6KY2A53j_Is",
        "outputId": "af9581c1-2445-4000-dfdf-e4762379f2a8"
      },
      "execution_count": 18,
      "outputs": [
        {
          "output_type": "stream",
          "name": "stdout",
          "text": [
            "Perform independent t-tests: \n",
            "\n",
            "Ttest_indResult(statistic=-2.156879000077473, pvalue=0.031102035056094435)\n",
            "Ttest_indResult(statistic=-12.178693698397144, pvalue=7.117316596669961e-34)\n",
            "Ttest_indResult(statistic=-53.05617060593661, pvalue=0.0)\n",
            "Ttest_indResult(statistic=-108.92480049283358, pvalue=0.0)\n",
            "Ttest_indResult(statistic=-150.48935985109054, pvalue=0.0)\n",
            "\n",
            "\n",
            "Corrected p values for multiple tests: \n",
            "\n",
            "[0.03110204 0.         0.         0.         0.        ]\n"
          ]
        }
      ]
    },
    {
      "cell_type": "markdown",
      "source": [
        "## Bonus | Running simulations in parallel\n",
        "\n",
        "> *Using the the script shown bellow, we run multiple simulations with different parameters in parallel. 242 simulations of 10.000 neurons each (duration = 500 ms, dt = 0.1ms) required ~25 minutes to run in a laptop with an Intel i7-9750h CPU and 16 GB of RAM, using only 6 of the 12 available threads.*\n",
        "\n",
        "```\n",
        "import os\n",
        "from numpy import arange\n",
        "from time import time\n",
        "from multiprocessing import Pool\n",
        "\n",
        "#### Define functions #########################################################\n",
        "freq_range = arange(0.5, 1.6, 0.1, dtype=float)\n",
        "def sim_params():\n",
        "    \"\"\"Specify all combinations of simulation paramaters\"\"\"\n",
        "    params = []\n",
        "    for input_ec in [True]:\n",
        "        for input_ca3 in [True]:\n",
        "            for dspikes in [True, False]:\n",
        "                for freq_ec in freq_range*82:\n",
        "                    for freq_ca3 in freq_range*120:\n",
        "                        _params = ' '.join(\n",
        "                            [f'INPUT_EC={input_ec}',\n",
        "                             f'INPUT_CA3={input_ca3}',\n",
        "                             f'DSPIKES={dspikes}',\n",
        "                             f'FREQ_EC={freq_ec:.1f}*Hz',\n",
        "                             f'FREQ_CA3={freq_ca3:.1f}*Hz',\n",
        "                             'N_PYR=10000',\n",
        "                             'T_SIM=500*ms'])\n",
        "                        params.append(_params)\n",
        "    return params\n",
        "\n",
        "\n",
        "def run_process(process):\n",
        "    \"\"\"os call to run a single simulation\"\"\"\n",
        "    os.system(f'python {process}')\n",
        "\n",
        "\n",
        "def submit_processes(scriptname=None, args=None, threads=1):\n",
        "    to_submit = [f'{scriptname} {arg}' for arg in args]\n",
        "    pool = Pool(processes=threads)\n",
        "    pool.map(run_process, to_submit)\n",
        "\n",
        "\n",
        "#### Submit jobs ##############################################################\n",
        "t_start = time()\n",
        "script = 'fig_coincidence_panels.py'\n",
        "cmd_params = sim_params()\n",
        "n_threads = 6\n",
        "print(f'NUMBER OF SIMULATIONS: {len(cmd_params)}')\n",
        "print(f'MAX NUMBER OF THREADS: {n_threads}\\n')\n",
        "submit_processes(scriptname=script, args=cmd_params, threads=n_threads)\n",
        "t_end = time()\n",
        "print(f\"\\nOverall time: {t_end-t_start:.2f} s\")\n",
        "```\n",
        "\n",
        "> *To convert the command line arguments into simulation properties we also include the following piece of code in the beggining of the simulation file (right after the imports):*\n",
        "\n",
        "```\n",
        "params_list = []\n",
        "for i in sys.argv[1:]:\n",
        "    var, value = i.split('=')\n",
        "    exec(f\"{var} = {value}\")\n",
        "    params_list.append(f\"{var}={value}\")\n",
        "    params = ' '.join(params_list)\n",
        "```\n",
        "\n"
      ],
      "metadata": {
        "id": "h8kvUg0P_VO4"
      }
    }
  ]
}